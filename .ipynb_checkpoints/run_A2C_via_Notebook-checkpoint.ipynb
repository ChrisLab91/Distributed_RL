{
 "cells": [
  {
   "cell_type": "code",
   "execution_count": 95,
   "metadata": {},
   "outputs": [],
   "source": [
    "import numpy as np\n",
    "import tensorflow.contrib.slim as slim\n",
    "import scipy.signal\n",
    "import gym\n",
    "import os\n",
    "import threading\n",
    "import multiprocessing\n",
    "import tensorflow as tf\n",
    "import ac_network\n",
    "import worker\n",
    "import matplotlib.pyplot as plt\n",
    "import replay_buffer\n",
    "import gym_wrapper\n",
    "\n",
    "reload(ac_network)\n",
    "reload(worker)\n",
    "reload(replay_buffer)\n",
    "reload(gym_wrapper)\n",
    "\n",
    "from gym_wrapper import GymWrapper\n",
    "from ac_network import AC_Network\n",
    "from worker import Worker\n",
    "from replay_buffer import ReplayBuffer"
   ]
  },
  {
   "cell_type": "markdown",
   "metadata": {},
   "source": [
    "** Setup of hyperparameters **"
   ]
  },
  {
   "cell_type": "code",
   "execution_count": 96,
   "metadata": {
    "collapsed": true
   },
   "outputs": [],
   "source": [
    "# Tensorboard dir\n",
    "LOG_DIR = '/home/adrian/Schreibtisch/Uni/Data-Innovation-Lab/DILAB/tensorflowlogs'\n",
    "\n",
    "# Gym environment\n",
    "ENV_NAME = 'CartPole-v0'  # Discrete (4, 2)\n",
    "RANDOM_SEED = 1234\n",
    "STATE_DIM = 4\n",
    "ACTION_DIM = 2\n",
    "NUM_ENVS = 5\n",
    "\n",
    "# Neural network spec\n",
    "CELL_UNITS = 16\n",
    "# Learning rate\n",
    "LEARNING_RATE = 0.0005\n",
    "\n",
    "# Exploration spec\n",
    "ENTROPY_REGULARIZATION = True\n",
    "ENTROPY_REGULARIZATION_LAMBDA = 0.1\n",
    "# Noisy net settings \n",
    "# 1.Option --> None (normal fully connected layers)\n",
    "# 2.Option --> \"factorized\"\n",
    "# 3.Option --> \"independent\"\n",
    "NOISE_DIST = 'factorized'\n",
    "\n",
    "# Size of mini batches to run training on\n",
    "MINI_BATCH = 40\n",
    "REWARD_FACTOR = 0.001\n",
    "# Discount rate for advantage estimation and reward discounting\n",
    "GAMMA = 0.99\n",
    "EPISODE_RUNS = 1000\n",
    "\n",
    "METHOD = \"A3C\"\n",
    "TAU = 0.2\n",
    "ROLLOUT = 10\n",
    "\n",
    "# Define network configuration\n",
    "network_config = dict(shared = True,\n",
    "                      shared_config = dict(kind = 'RNN',\n",
    "                                           Cell_Units = 16),\n",
    "                      policy_config = dict(layers = [2],\n",
    "                                           noise_dist = \"factorized\"),\n",
    "                      value_config = dict(layers = [1],\n",
    "                                          noise_dist = \"factorized\"))"
   ]
  },
  {
   "cell_type": "code",
   "execution_count": 97,
   "metadata": {
    "scrolled": true
   },
   "outputs": [
    {
     "name": "stdout",
     "output_type": "stream",
     "text": [
      "A3C\n",
      "A3C\n",
      "Start\n",
      "Starting worker 1\n",
      " Starting worker 0\n",
      "[15]\n",
      "('Reward: 15.0', ' | Episode', 0, ' of worker_1')\n",
      "('Reward: 14.0', ' | Episode', 0, ' of worker_0')\n",
      "[18]\n",
      "[15]\n",
      "[28]\n",
      "[41]\n",
      "[3]\n",
      "[11]\n",
      "[19]\n",
      "[25]\n",
      "[17]\n",
      "[13]\n",
      "[12]\n",
      "[19]\n",
      "[17]\n",
      "[20]\n",
      "[14]\n",
      "[18]\n",
      "[17]\n",
      "[24]\n",
      "('Reward: 12.0', ' | Episode', 20, ' of worker_0')\n",
      "[20]\n",
      "[15]\n",
      "[16]\n",
      "('Reward: 16.0', ' | Episode', 20, ' of worker_1')\n",
      "[15]\n",
      "[11]\n",
      "[23]\n",
      "[20]\n",
      "[28]\n",
      "[12]\n",
      "[14]\n",
      "[11]\n",
      "[18]\n",
      "[18]\n",
      "[17]\n",
      "[23]\n",
      "[11]\n",
      "[33]\n",
      "[14]\n",
      "[20]\n",
      "[26]\n",
      "[8]\n",
      "[14]\n",
      "('Reward: 8.0', ' | Episode', 40, ' of worker_0')\n",
      "[35]\n",
      "('Reward: 35.0', ' | Episode', 40, ' of worker_1')\n",
      "[11]\n",
      "[41]\n",
      "[2]\n",
      "[24]\n",
      "[20]\n",
      "[41]\n",
      "[19]\n",
      "[16]\n",
      "[18]\n",
      "[28]\n",
      "[9]\n",
      "[11]\n",
      "[35]\n",
      "[17]\n",
      "[34]\n",
      "('Reward: 18.0', ' | Episode', 60, ' of worker_0')\n",
      "[22]\n",
      "[17]\n",
      "[10]\n",
      "[13]\n",
      "[16]\n",
      "[19]\n",
      "[21]\n",
      "('Reward: 21.0', ' | Episode', 60, ' of worker_1')\n",
      "[18]\n",
      "[19]\n",
      "[14]\n",
      "[15]\n",
      "[11]\n",
      "[26]\n",
      "[12]\n",
      "[18]\n",
      "[19]\n",
      "[21]\n",
      "[24]\n",
      "[15]\n",
      "[40]\n",
      "[9]\n",
      "[28]\n",
      "[16]\n",
      "('Reward: 30.0', ' | Episode', 80, ' of worker_0')\n",
      "[21]\n",
      "[12]\n",
      "[23]\n",
      "[17]\n",
      "('Reward: 17.0', ' | Episode', 80, ' of worker_1')\n",
      "[31]\n",
      "[41]\n",
      "[34]\n",
      "[12]\n",
      "[41]\n",
      "[2]\n",
      "[12]\n",
      "[41]\n",
      "[3]\n",
      "[41]\n",
      "[3]\n",
      "[29]\n",
      "[41]\n",
      "[2]\n",
      "[12]\n",
      "[13]\n",
      "('Reward: 11.0', ' | Episode', 100, ' of worker_0')\n",
      "[11]\n",
      "[31]\n",
      "[21]\n",
      "[27]\n",
      "[16]\n",
      "[11]\n",
      "[30]\n",
      "[13]\n",
      "[10]\n",
      "('Reward: 10.0', ' | Episode', 100, ' of worker_1')\n",
      "[20]\n",
      "[21]\n",
      "[16]\n",
      "[18]\n",
      "[21]\n",
      "[29]\n",
      "[36]\n",
      "[17]\n",
      "[9]\n",
      "[16]\n",
      "[12]\n",
      "[11]\n",
      "('Reward: 13.0', ' | Episode', 120, ' of worker_0')\n",
      "[13]\n",
      "[19]\n",
      "[13]\n",
      "[30]\n",
      "[12]\n",
      "[40]\n",
      "[41]\n",
      "[1]\n",
      "[41]\n",
      "[26]\n",
      "('Reward: 67.0', ' | Episode', 120, ' of worker_1')\n",
      "[9]\n",
      "[25]\n",
      "[17]\n",
      "[18]\n",
      "[31]\n",
      "[18]\n",
      "[16]\n",
      "[19]\n",
      "[11]\n",
      "[17]\n",
      "('Reward: 16.0', ' | Episode', 140, ' of worker_0')\n",
      "[19]\n",
      "[13]\n",
      "[35]\n",
      "[33]\n",
      "[29]\n",
      "[27]\n",
      "[10]\n",
      "[19]\n",
      "[16]\n",
      "[12]\n",
      "('Reward: 12.0', ' | Episode', 140, ' of worker_1')\n",
      "[17]\n",
      "[11]\n",
      "[29]\n",
      "[25]\n",
      "[14]\n",
      "[14]\n",
      "[18]\n",
      "[11]\n",
      "[10]\n",
      "[17]\n",
      "[17]\n",
      "[16]\n",
      "[23]\n",
      "('Reward: 34.0', ' | Episode', 160, ' of worker_0')\n",
      "[41]\n",
      "[6]\n",
      "[17]\n",
      "[11]\n",
      "[8]\n",
      "[11]\n",
      "[41]\n",
      "[1]\n",
      "[36]\n",
      "('Reward: 36.0', ' | Episode', 160, ' of worker_1')\n",
      "[15]\n",
      "[28]\n",
      "[10]\n",
      "[19]\n",
      "[14]\n",
      "[19]\n",
      "[15]\n",
      "[24]\n",
      "[10]\n",
      "[41]\n",
      "[3]\n",
      "[28]\n",
      "[21]\n",
      "[19]\n",
      "[39]\n",
      "[41]\n",
      "[3]\n",
      "[32]\n",
      "('Reward: 42.0', ' | Episode', 180, ' of worker_0')\n",
      "[11]\n",
      "[12]\n",
      "[11]\n",
      "[19]\n",
      "('Reward: 19.0', ' | Episode', 180, ' of worker_1')\n",
      "[20]\n",
      "[28]\n",
      "[41]\n",
      "[4]\n",
      "[41]\n",
      "[12]\n",
      "[27]\n",
      "[18]\n",
      "[13]\n",
      "[12]\n",
      "[12]\n",
      "[36]\n",
      "[22]\n",
      "[27]\n",
      "[13]\n",
      "[20]\n",
      "[30]\n",
      "[17]\n",
      "[41]\n",
      "[16]\n",
      "[14]\n",
      "[14]\n",
      "('Reward: 14.0', ' | Episode', 200, ' of worker_1')\n",
      "[20]\n",
      "[10]\n",
      "('Reward: 17.0', ' | Episode', 200, ' of worker_0')\n",
      "[33]\n",
      "[21]\n",
      "[18]\n",
      "[13]\n",
      "[17]\n",
      "[11]\n",
      "[8]\n",
      "[20]\n",
      "[17]\n",
      "[34]\n",
      "[16]\n",
      "[12]\n",
      "[14]\n",
      "[32]\n",
      "[33]\n",
      "[17]\n",
      "[24]\n",
      "[15]\n",
      "('Reward: 15.0', ' | Episode', 220, ' of worker_1')\n",
      "[21]\n",
      "[27]\n",
      "[16]\n",
      "[24]\n",
      "('Reward: 27.0', ' | Episode', 220, ' of worker_0')\n",
      "[12]\n",
      "[22]\n",
      "[41]\n",
      "[15]\n",
      "[41]\n",
      "[23]\n",
      "[41]\n",
      "[40]\n",
      "[13]\n",
      "[35]\n",
      "[30]\n",
      "[24]\n",
      "[29]\n",
      "[41]\n",
      "[41]\n",
      "[13]\n",
      "[27]\n",
      "[41]\n",
      "[30]\n",
      "[13]\n",
      "('Reward: 21.0', ' | Episode', 240, ' of worker_0')\n",
      "[32]\n",
      "[11]\n",
      "('Reward: 11.0', ' | Episode', 240, ' of worker_1')\n",
      "[19]\n",
      "[41]\n",
      "[6]\n",
      "[16]\n",
      "[32]\n",
      "[38]\n",
      "[28]\n",
      "[12]\n",
      "[41]\n",
      "[24]\n",
      "[11]\n",
      "[13]\n",
      "[14]\n",
      "[41]\n",
      "[18]\n",
      "[41]\n",
      "[1]\n",
      "('Reward: 14.0', ' | Episode', 260, ' of worker_0')\n",
      "[39]\n",
      "[16]\n",
      "[28]\n",
      "[22]\n",
      "[12]\n",
      "[24]\n",
      "[21]\n",
      "('Reward: 21.0', ' | Episode', 260, ' of worker_1')\n",
      "[16]\n",
      "[12]\n",
      "[34]\n",
      "[24]\n",
      "[41]\n",
      "[40]\n",
      "[19]\n",
      "[15]\n",
      "[26]\n",
      "[41]\n",
      "[2]\n",
      "[37]\n",
      "[10]\n",
      "[41]\n",
      "[32]\n",
      "[10]\n",
      "[37]\n",
      "[41]\n",
      "[17]\n",
      "[41]\n",
      "[5]\n",
      "[37]\n",
      "('Reward: 33.0', ' | Episode', 280, ' of worker_0')\n",
      "[37]\n",
      "[22]\n",
      "('Reward: 22.0', ' | Episode', 280, ' of worker_1')\n",
      "[13]\n",
      "[36]\n",
      "[41]\n",
      "[18]\n",
      "[11]\n",
      "[41]\n",
      "[26]\n",
      "[21]\n",
      "[41]\n",
      "[4]\n",
      "[41]\n",
      "[25]\n",
      "[19]\n",
      "[22]\n",
      "[30]\n",
      "[26]\n",
      "[38]\n",
      "[30]\n",
      "[16]\n",
      "[37]\n",
      "[41]\n",
      "[10]\n",
      "('Reward: 63.0', ' | Episode', 300, ' of worker_0')\n",
      "[22]\n",
      "[41]\n",
      "[9]\n",
      "('Reward: 50.0', ' | Episode', 300, ' of worker_1')\n",
      "[41]\n",
      "[8]\n",
      "[20]\n",
      "[15]\n",
      "[38]\n",
      "[20]\n",
      "[36]\n",
      "[30]\n",
      "[25]\n",
      "[10]\n",
      "[41]\n",
      "[14]\n",
      "[24]\n",
      "[18]\n",
      "[24]\n",
      "[20]\n",
      "[34]\n",
      "[31]\n",
      "[41]\n",
      "[12]\n",
      "[41]\n",
      "[7]\n",
      "[25]\n",
      "[13]\n",
      "('Reward: 13.0', ' | Episode', 320, ' of worker_1')\n",
      "[41]\n",
      "[29]\n",
      "('Reward: 22.0', ' | Episode', 320, ' of worker_0')\n",
      "[41]\n",
      "[13]\n",
      "[40]\n",
      "[21]\n",
      "[41]\n",
      "[1]\n",
      "[25]\n",
      "[26]\n",
      "[27]\n",
      "[41]\n",
      "[41]\n",
      "[11]\n",
      "[10]\n",
      "[35]\n",
      "[31]\n",
      "[14]\n",
      "[41]\n",
      "[23]\n",
      "[14]\n",
      "[33]\n",
      "[11]\n",
      "[33]\n",
      "('Reward: 33.0', ' | Episode', 340, ' of worker_1')\n",
      "[9]\n",
      "[25]\n",
      "[41]\n",
      "[12]\n",
      "[31]\n",
      "('Reward: 27.0', ' | Episode', 340, ' of worker_0')\n",
      "[32]\n",
      "[22]\n",
      "[31]\n",
      "[27]\n",
      "[34]\n",
      "[28]\n",
      "[41]\n",
      "[12]\n",
      "[40]\n",
      "[41]\n",
      "[4]\n",
      "[25]\n",
      "[41]\n",
      "[1]\n",
      "[20]\n",
      "[36]\n",
      "[41]\n",
      "[3]\n",
      "[41]\n",
      "[20]\n",
      "[15]\n",
      "('Reward: 15.0', ' | Episode', 360, ' of worker_1')\n",
      "[14]\n",
      "[35]\n",
      "[40]\n",
      "[41]\n",
      "[15]\n",
      "[34]\n",
      "[30]\n",
      "[31]\n",
      "('Reward: 33.0', ' | Episode', 360, ' of worker_0')\n",
      "[41]\n",
      "[6]\n",
      "[25]\n",
      "[35]\n",
      "[41]\n",
      "[20]\n",
      "[41]\n",
      "[31]\n",
      "[24]\n",
      "[30]\n",
      "[41]\n",
      "[20]\n",
      "[41]\n",
      "[3]\n",
      "[20]\n",
      "[27]\n",
      "[30]\n",
      "('Reward: 30.0', ' | Episode', 380, ' of worker_1')\n",
      "[41]\n",
      "[1]\n",
      "[20]\n",
      "[29]\n",
      "[21]\n",
      "[41]\n",
      "[19]\n",
      "[16]\n",
      "[39]\n",
      "[41]\n",
      "[2]\n",
      "[40]\n",
      "[30]\n",
      "('Reward: 62.0', ' | Episode', 380, ' of worker_0')\n",
      "[41]\n",
      "[1]\n",
      "[35]\n",
      "[27]\n",
      "[29]\n",
      "[41]\n",
      "[5]\n",
      "[24]\n",
      "[38]\n",
      "[41]\n",
      "[22]\n",
      "[37]\n",
      "('Reward: 37.0', ' | Episode', 400, ' of worker_1')\n",
      "[38]\n",
      "[41]\n",
      "[22]\n",
      "[29]\n",
      "[22]\n",
      "[23]\n",
      "[36]\n",
      "[36]\n",
      "[41]\n",
      "[12]\n",
      "[20]\n",
      "[30]\n",
      "('Reward: 34.0', ' | Episode', 400, ' of worker_0')\n",
      "[41]\n",
      "[10]\n",
      "[41]\n",
      "[17]\n",
      "[41]\n",
      "[3]\n",
      "[41]\n",
      "[10]\n",
      "[28]\n",
      "[41]\n"
     ]
    },
    {
     "name": "stderr",
     "output_type": "stream",
     "text": [
      "Exception in thread Thread-62:\n",
      "Traceback (most recent call last):\n",
      "  File \"/home/adrian/anaconda3/envs/py27/lib/python2.7/threading.py\", line 801, in __bootstrap_inner\n",
      "    self.run()\n",
      "  File \"/home/adrian/anaconda3/envs/py27/lib/python2.7/threading.py\", line 754, in run\n",
      "    self.__target(*self.__args, **self.__kwargs)\n",
      "  File \"<ipython-input-97-65be2922b6de>\", line 38, in <lambda>\n",
      "    worker_work = lambda: worker.work(GAMMA, sess, coord, merged, train_writer)\n",
      "  File \"worker.py\", line 391, in work\n",
      "    a, v, rnn_state, _ = self.act(s, rnn_state, sess)\n",
      "  File \"worker.py\", line 279, in act\n",
      "    self.local_AC.state_in[1]: rnn_state[1]})\n",
      "  File \"/home/adrian/anaconda3/envs/py27/lib/python2.7/site-packages/tensorflow/python/client/session.py\", line 889, in run\n",
      "    run_metadata_ptr)\n",
      "  File \"/home/adrian/anaconda3/envs/py27/lib/python2.7/site-packages/tensorflow/python/client/session.py\", line 1120, in _run\n",
      "    feed_dict_tensor, options, run_metadata)\n",
      "  File \"/home/adrian/anaconda3/envs/py27/lib/python2.7/site-packages/tensorflow/python/client/session.py\", line 1317, in _do_run\n",
      "    options, run_metadata)\n",
      "  File \"/home/adrian/anaconda3/envs/py27/lib/python2.7/site-packages/tensorflow/python/client/session.py\", line 1336, in _do_call\n",
      "    raise type(e)(node_def, op, message)\n",
      "CancelledError: Step was cancelled by an explicit call to `Session::Close()`.\n",
      "\n",
      "Exception in thread Thread-63:\n",
      "Traceback (most recent call last):\n",
      "  File \"/home/adrian/anaconda3/envs/py27/lib/python2.7/threading.py\", line 801, in __bootstrap_inner\n",
      "    self.run()\n",
      "  File \"/home/adrian/anaconda3/envs/py27/lib/python2.7/threading.py\", line 754, in run\n",
      "    self.__target(*self.__args, **self.__kwargs)\n",
      "  File \"<ipython-input-97-65be2922b6de>\", line 44, in <lambda>\n",
      "    worker_work = lambda: worker.work(GAMMA, sess, coord, merged, train_writer)\n",
      "  File \"worker.py\", line 391, in work\n",
      "    a, v, rnn_state, _ = self.act(s, rnn_state, sess)\n",
      "  File \"worker.py\", line 279, in act\n",
      "    self.local_AC.state_in[1]: rnn_state[1]})\n",
      "  File \"/home/adrian/anaconda3/envs/py27/lib/python2.7/site-packages/tensorflow/python/client/session.py\", line 889, in run\n",
      "    run_metadata_ptr)\n",
      "  File \"/home/adrian/anaconda3/envs/py27/lib/python2.7/site-packages/tensorflow/python/client/session.py\", line 1120, in _run\n",
      "    feed_dict_tensor, options, run_metadata)\n",
      "  File \"/home/adrian/anaconda3/envs/py27/lib/python2.7/site-packages/tensorflow/python/client/session.py\", line 1317, in _do_run\n",
      "    options, run_metadata)\n",
      "  File \"/home/adrian/anaconda3/envs/py27/lib/python2.7/site-packages/tensorflow/python/client/session.py\", line 1336, in _do_call\n",
      "    raise type(e)(node_def, op, message)\n",
      "CancelledError: Step was cancelled by an explicit call to `Session::Close()`.\n",
      "\n"
     ]
    },
    {
     "ename": "KeyboardInterrupt",
     "evalue": "",
     "output_type": "error",
     "traceback": [
      "\u001b[0;31m---------------------------------------------------------------------------\u001b[0m",
      "\u001b[0;31mKeyboardInterrupt\u001b[0m                         Traceback (most recent call last)",
      "\u001b[0;32m<ipython-input-97-65be2922b6de>\u001b[0m in \u001b[0;36m<module>\u001b[0;34m()\u001b[0m\n\u001b[1;32m     47\u001b[0m     \u001b[0mworker_threads\u001b[0m\u001b[0;34m.\u001b[0m\u001b[0mappend\u001b[0m\u001b[0;34m(\u001b[0m\u001b[0mt\u001b[0m\u001b[0;34m)\u001b[0m\u001b[0;34m\u001b[0m\u001b[0m\n\u001b[1;32m     48\u001b[0m     \u001b[0;32mprint\u001b[0m\u001b[0;34m(\u001b[0m\u001b[0;34m\"Start\"\u001b[0m\u001b[0;34m)\u001b[0m\u001b[0;34m\u001b[0m\u001b[0m\n\u001b[0;32m---> 49\u001b[0;31m     \u001b[0mcoord\u001b[0m\u001b[0;34m.\u001b[0m\u001b[0mjoin\u001b[0m\u001b[0;34m(\u001b[0m\u001b[0mworker_threads\u001b[0m\u001b[0;34m)\u001b[0m\u001b[0;34m\u001b[0m\u001b[0m\n\u001b[0m\u001b[1;32m     50\u001b[0m \u001b[0;34m\u001b[0m\u001b[0m\n\u001b[1;32m     51\u001b[0m \u001b[0;31m#tf.app.run()\u001b[0m\u001b[0;34m\u001b[0m\u001b[0;34m\u001b[0m\u001b[0m\n",
      "\u001b[0;32m/home/adrian/anaconda3/envs/py27/lib/python2.7/site-packages/tensorflow/python/training/coordinator.pyc\u001b[0m in \u001b[0;36mjoin\u001b[0;34m(self, threads, stop_grace_period_secs, ignore_live_threads)\u001b[0m\n\u001b[1;32m    361\u001b[0m \u001b[0;34m\u001b[0m\u001b[0m\n\u001b[1;32m    362\u001b[0m     \u001b[0;31m# Wait for all threads to stop or for request_stop() to be called.\u001b[0m\u001b[0;34m\u001b[0m\u001b[0;34m\u001b[0m\u001b[0m\n\u001b[0;32m--> 363\u001b[0;31m     \u001b[0;32mwhile\u001b[0m \u001b[0many\u001b[0m\u001b[0;34m(\u001b[0m\u001b[0mt\u001b[0m\u001b[0;34m.\u001b[0m\u001b[0mis_alive\u001b[0m\u001b[0;34m(\u001b[0m\u001b[0;34m)\u001b[0m \u001b[0;32mfor\u001b[0m \u001b[0mt\u001b[0m \u001b[0;32min\u001b[0m \u001b[0mthreads\u001b[0m\u001b[0;34m)\u001b[0m \u001b[0;32mand\u001b[0m \u001b[0;32mnot\u001b[0m \u001b[0mself\u001b[0m\u001b[0;34m.\u001b[0m\u001b[0mwait_for_stop\u001b[0m\u001b[0;34m(\u001b[0m\u001b[0;36m1.0\u001b[0m\u001b[0;34m)\u001b[0m\u001b[0;34m:\u001b[0m\u001b[0;34m\u001b[0m\u001b[0m\n\u001b[0m\u001b[1;32m    364\u001b[0m       \u001b[0;32mpass\u001b[0m\u001b[0;34m\u001b[0m\u001b[0m\n\u001b[1;32m    365\u001b[0m \u001b[0;34m\u001b[0m\u001b[0m\n",
      "\u001b[0;32m/home/adrian/anaconda3/envs/py27/lib/python2.7/site-packages/tensorflow/python/training/coordinator.pyc\u001b[0m in \u001b[0;36mwait_for_stop\u001b[0;34m(self, timeout)\u001b[0m\n\u001b[1;32m    309\u001b[0m       \u001b[0mTrue\u001b[0m \u001b[0;32mif\u001b[0m \u001b[0mthe\u001b[0m \u001b[0mCoordinator\u001b[0m \u001b[0;32mis\u001b[0m \u001b[0mtold\u001b[0m \u001b[0mstop\u001b[0m\u001b[0;34m,\u001b[0m \u001b[0mFalse\u001b[0m \u001b[0;32mif\u001b[0m \u001b[0mthe\u001b[0m \u001b[0mtimeout\u001b[0m \u001b[0mexpired\u001b[0m\u001b[0;34m.\u001b[0m\u001b[0;34m\u001b[0m\u001b[0m\n\u001b[1;32m    310\u001b[0m     \"\"\"\n\u001b[0;32m--> 311\u001b[0;31m     \u001b[0;32mreturn\u001b[0m \u001b[0mself\u001b[0m\u001b[0;34m.\u001b[0m\u001b[0m_stop_event\u001b[0m\u001b[0;34m.\u001b[0m\u001b[0mwait\u001b[0m\u001b[0;34m(\u001b[0m\u001b[0mtimeout\u001b[0m\u001b[0;34m)\u001b[0m\u001b[0;34m\u001b[0m\u001b[0m\n\u001b[0m\u001b[1;32m    312\u001b[0m \u001b[0;34m\u001b[0m\u001b[0m\n\u001b[1;32m    313\u001b[0m   \u001b[0;32mdef\u001b[0m \u001b[0mregister_thread\u001b[0m\u001b[0;34m(\u001b[0m\u001b[0mself\u001b[0m\u001b[0;34m,\u001b[0m \u001b[0mthread\u001b[0m\u001b[0;34m)\u001b[0m\u001b[0;34m:\u001b[0m\u001b[0;34m\u001b[0m\u001b[0m\n",
      "\u001b[0;32m/home/adrian/anaconda3/envs/py27/lib/python2.7/threading.pyc\u001b[0m in \u001b[0;36mwait\u001b[0;34m(self, timeout)\u001b[0m\n\u001b[1;32m    612\u001b[0m         \u001b[0;32mwith\u001b[0m \u001b[0mself\u001b[0m\u001b[0;34m.\u001b[0m\u001b[0m__cond\u001b[0m\u001b[0;34m:\u001b[0m\u001b[0;34m\u001b[0m\u001b[0m\n\u001b[1;32m    613\u001b[0m             \u001b[0;32mif\u001b[0m \u001b[0;32mnot\u001b[0m \u001b[0mself\u001b[0m\u001b[0;34m.\u001b[0m\u001b[0m__flag\u001b[0m\u001b[0;34m:\u001b[0m\u001b[0;34m\u001b[0m\u001b[0m\n\u001b[0;32m--> 614\u001b[0;31m                 \u001b[0mself\u001b[0m\u001b[0;34m.\u001b[0m\u001b[0m__cond\u001b[0m\u001b[0;34m.\u001b[0m\u001b[0mwait\u001b[0m\u001b[0;34m(\u001b[0m\u001b[0mtimeout\u001b[0m\u001b[0;34m)\u001b[0m\u001b[0;34m\u001b[0m\u001b[0m\n\u001b[0m\u001b[1;32m    615\u001b[0m             \u001b[0;32mreturn\u001b[0m \u001b[0mself\u001b[0m\u001b[0;34m.\u001b[0m\u001b[0m__flag\u001b[0m\u001b[0;34m\u001b[0m\u001b[0m\n\u001b[1;32m    616\u001b[0m \u001b[0;34m\u001b[0m\u001b[0m\n",
      "\u001b[0;32m/home/adrian/anaconda3/envs/py27/lib/python2.7/threading.pyc\u001b[0m in \u001b[0;36mwait\u001b[0;34m(self, timeout)\u001b[0m\n\u001b[1;32m    357\u001b[0m                         \u001b[0;32mbreak\u001b[0m\u001b[0;34m\u001b[0m\u001b[0m\n\u001b[1;32m    358\u001b[0m                     \u001b[0mdelay\u001b[0m \u001b[0;34m=\u001b[0m \u001b[0mmin\u001b[0m\u001b[0;34m(\u001b[0m\u001b[0mdelay\u001b[0m \u001b[0;34m*\u001b[0m \u001b[0;36m2\u001b[0m\u001b[0;34m,\u001b[0m \u001b[0mremaining\u001b[0m\u001b[0;34m,\u001b[0m \u001b[0;36m.05\u001b[0m\u001b[0;34m)\u001b[0m\u001b[0;34m\u001b[0m\u001b[0m\n\u001b[0;32m--> 359\u001b[0;31m                     \u001b[0m_sleep\u001b[0m\u001b[0;34m(\u001b[0m\u001b[0mdelay\u001b[0m\u001b[0;34m)\u001b[0m\u001b[0;34m\u001b[0m\u001b[0m\n\u001b[0m\u001b[1;32m    360\u001b[0m                 \u001b[0;32mif\u001b[0m \u001b[0;32mnot\u001b[0m \u001b[0mgotit\u001b[0m\u001b[0;34m:\u001b[0m\u001b[0;34m\u001b[0m\u001b[0m\n\u001b[1;32m    361\u001b[0m                     \u001b[0;32mif\u001b[0m \u001b[0m__debug__\u001b[0m\u001b[0;34m:\u001b[0m\u001b[0;34m\u001b[0m\u001b[0m\n",
      "\u001b[0;31mKeyboardInterrupt\u001b[0m: "
     ]
    }
   ],
   "source": [
    "#MAIN\n",
    "#def main(_):\n",
    "global master_network\n",
    "global global_episodes\n",
    "\n",
    "tf.reset_default_graph()\n",
    "\n",
    "with tf.device('/job:local/task:0/device:CPU:0'): #Parameter server adress\n",
    "    RANDOM_SEED = 1234\n",
    "    np.random.seed(RANDOM_SEED)\n",
    "    tf.set_random_seed(RANDOM_SEED)\n",
    "\n",
    "    global_episodes = tf.Variable(0, dtype=tf.int32, name='global_episodes', trainable=False)\n",
    "    trainer = tf.train.AdamOptimizer(learning_rate=LEARNING_RATE)\n",
    "    master_network = AC_Network(STATE_DIM, ACTION_DIM, 'global', None, network_config, tau = TAU, rollout = ROLLOUT, method = METHOD)  # Generate global network\n",
    "    num_workers = 2  # Number of workers\n",
    "\n",
    "    workers = []\n",
    "    # Create worker classes\n",
    "    with tf.device('/job:local/task:1/device:CPU:0'): #Worker server adresses\n",
    "        workers.append(Worker(0, STATE_DIM, ACTION_DIM, network_config, trainer, global_episodes,\n",
    "                              ENV_NAME, NUM_ENVS, tau = TAU, rollout = ROLLOUT, method = METHOD))\n",
    "    with tf.device('/job:local/task:1/device:CPU:0'):\n",
    "        workers.append(Worker(1, STATE_DIM, ACTION_DIM, network_config,trainer,global_episodes,\n",
    "                              ENV_NAME, NUM_ENVS, tau = TAU, rollout = ROLLOUT, method = METHOD))\n",
    "\n",
    "with tf.Session(\"grpc://localhost:2222\") as sess:\n",
    "    coord = tf.train.Coordinator()\n",
    "    merged = tf.summary.merge_all()    \n",
    "    train_writer = tf.summary.FileWriter(LOG_DIR, sess.graph)\n",
    "    sess.run(tf.global_variables_initializer())\n",
    "\n",
    "    # This is where the asynchronous magic happens.\n",
    "    # Start the \"work\" process for each worker in a separate thread.\n",
    "    worker_threads = []\n",
    "    worker=workers[0]\n",
    "    with tf.device('/job:local/task:1/device:CPU:0'):\n",
    "        worker_work = lambda: worker.work(GAMMA, sess, coord, merged, train_writer)\n",
    "        t = threading.Thread(target=(worker_work))\n",
    "        t.start()\n",
    "    worker_threads.append(t)\n",
    "    worker=workers[1]\n",
    "    with tf.device('/job:local/task:1/device:CPU:0'):\n",
    "        worker_work = lambda: worker.work(GAMMA, sess, coord, merged, train_writer)\n",
    "        t = threading.Thread(target=(worker_work))\n",
    "        t.start()\n",
    "    worker_threads.append(t)\n",
    "    print(\"Start\")\n",
    "    coord.join(worker_threads)\n",
    "\n",
    "#tf.app.run()\n"
   ]
  },
  {
   "cell_type": "code",
   "execution_count": 77,
   "metadata": {},
   "outputs": [
    {
     "data": {
      "text/plain": [
       "8.0"
      ]
     },
     "execution_count": 77,
     "metadata": {},
     "output_type": "execute_result"
    }
   ],
   "source": [
    "np.mean(np.sum(worker.episode_reward, axis = 0))"
   ]
  },
  {
   "cell_type": "markdown",
   "metadata": {},
   "source": [
    "Get rewards collected by the different agents"
   ]
  },
  {
   "cell_type": "code",
   "execution_count": 98,
   "metadata": {},
   "outputs": [
    {
     "data": {
      "image/png": "[encoded data removed]",
      "text/plain": [
       "<matplotlib.figure.Figure at 0x7fa06c9597d0>"
      ]
     },
     "metadata": {},
     "output_type": "display_data"
    },
    {
     "data": {
      "image/png": "[encoded data removed]",
      "text/plain": [
       "<matplotlib.figure.Figure at 0x7fa05da11f90>"
      ]
     },
     "metadata": {},
     "output_type": "display_data"
    }
   ],
   "source": [
    "plotListNoNoisyNet = []\n",
    "for i in range(len(workers)):\n",
    "    workerTemp = workers[i]\n",
    "    rewards = workerTemp.getRewards()\n",
    "    plt.plot(np.arange(len(rewards)), rewards)\n",
    "    plt.xlabel('step')\n",
    "    plt.ylabel('Total moving reward')\n",
    "    plt.title(\"Worker_%s\" % i)\n",
    "    plotListNoNoisyNet.append(plt)\n",
    "    plt.show()"
   ]
  },
  {
   "cell_type": "code",
   "execution_count": 83,
   "metadata": {},
   "outputs": [
    {
     "data": {
      "text/plain": [
       "124.5"
      ]
     },
     "execution_count": 83,
     "metadata": {},
     "output_type": "execute_result"
    }
   ],
   "source": [
    "np.mean(rewards[-20:])"
   ]
  },
  {
   "cell_type": "code",
   "execution_count": 15,
   "metadata": {},
   "outputs": [
    {
     "name": "stdout",
     "output_type": "stream",
     "text": [
      "200.0\n"
     ]
    },
    {
     "data": {
      "image/png": "[encoded data removed]",
      "text/plain": [
       "<matplotlib.figure.Figure at 0x7f7000390d50>"
      ]
     },
     "metadata": {},
     "output_type": "display_data"
    },
    {
     "name": "stdout",
     "output_type": "stream",
     "text": [
      "200.0\n"
     ]
    },
    {
     "data": {
      "image/png": "[encoded data removed]",
      "text/plain": [
       "<matplotlib.figure.Figure at 0x7f701a7d4e50>"
      ]
     },
     "metadata": {},
     "output_type": "display_data"
    }
   ],
   "source": [
    "plotList = []\n",
    "for i in range(len(workers)):\n",
    "    workerTemp = workers[i]\n",
    "    rewards = workerTemp.getRewards()\n",
    "    print(np.max(rewards))\n",
    "    plt.plot(np.arange(len(rewards)), rewards)\n",
    "    plt.xlabel('step')\n",
    "    plt.ylabel('Total moving reward')\n",
    "    plt.title(\"Worker_%s\" % i)\n",
    "    plotList.append(plt)\n",
    "    plt.show()"
   ]
  },
  {
   "cell_type": "code",
   "execution_count": 75,
   "metadata": {
    "collapsed": true
   },
   "outputs": [],
   "source": [
    "actions = np.random.binomial(1, 0.5, size = (5,24,2)) \n",
    "discount = np.array([GAMMA**i for i in range(10)], dtype=np.float32)\n",
    "rewards = np.random.binomial(5, 0.5, size = (5,24))\n",
    "\n",
    "init_c = np.zeros(shape = (5, 16))\n",
    "init_h = np.zeros(shape = (5, 16))\n",
    "process_ = np.random.normal(size = (5,24,4))\n",
    "\n",
    "feed_dict_ = {\n",
    "    ac_network_test_.inputs:process_,\n",
    "    ac_network_test_.state_in[0]:init_c,\n",
    "    ac_network_test_.state_in[1]:init_h,\n",
    "    ac_network_test_.actions:actions\n",
    "    #ac_network_test_.rewards:rewards,\n",
    "    #ac_network_test_.discount:discount,\n",
    "    #ac_network_test_.rollout:10\n",
    "}\n",
    "\n",
    "pol_, val_ = sess.run([ac_network_test_.policy, ac_network_test_.value], feed_dict = feed_dict_)"
   ]
  },
  {
   "cell_type": "code",
   "execution_count": 76,
   "metadata": {},
   "outputs": [
    {
     "data": {
      "text/plain": [
       "(5, 24, 2)"
      ]
     },
     "execution_count": 76,
     "metadata": {},
     "output_type": "execute_result"
    }
   ],
   "source": [
    "np.shape(pol_)"
   ]
  },
  {
   "cell_type": "markdown",
   "metadata": {},
   "source": [
    "Develop batched loss function"
   ]
  },
  {
   "cell_type": "code",
   "execution_count": 70,
   "metadata": {
    "collapsed": true
   },
   "outputs": [],
   "source": [
    "tf.reset_default_graph()\n",
    "sess = tf.Session()\n",
    "\n",
    "vals = tf.placeholder(shape=[None, None], dtype=tf.float32)\n",
    "actions_ = tf.placeholder(shape=[None, None, 2], dtype=tf.float32)\n",
    "policy_ = tf.placeholder(shape=[None, None, 2], dtype=tf.float32)\n",
    "rewards_ = tf.placeholder(shape=[None, None], dtype=tf.float32)\n",
    "\n",
    "length_ep = tf.placeholder(shape=[None], dtype=tf.int32)\n",
    "rollout_ = tf.placeholder(tf.int32, shape = ())\n",
    "discount_ = tf.placeholder(shape=[None], dtype=tf.float32)\n",
    "\n",
    "\n",
    "batch_size = tf.shape(vals)[0]\n",
    "length_ep_ = tf.shape(vals)[1]\n",
    "\n",
    "\n",
    "init_array = tf.TensorArray(tf.float32, size=batch_size)\n",
    "init_array_means = tf.TensorArray(tf.float32, size=batch_size)\n",
    "# value_loss_array holds for every episode -value_first + gamma ** rollout * value_last\n",
    "def compute_value_loss(i, ta, ta_mean):\n",
    "    value_loss = -1 * vals[i][:(length_ep[i] - 10 + 1)] + discount_[rollout_ - 1] * vals[i][-(length_ep[i] + (length_ep_-length_ep[i]) - rollout_ + 1):length_ep[i]]\n",
    "    value_loss_mean = tf.reduce_mean(value_loss)\n",
    "    return i + 1, ta.write(i, value_loss), ta_mean.write(i, value_loss_mean)\n",
    "\n",
    "_, value_loss_array, value_loss_mean_array = tf.while_loop(\n",
    "    lambda i, ta, ta_mean: i < batch_size, compute_value_loss, [0, init_array, init_array_means])\n",
    "\n",
    "# Compute now \n",
    "\n",
    "policy_loss_array_init = tf.TensorArray(tf.float32, size=batch_size)\n",
    "    policy_loss_mean_array_init = tf.TensorArray(tf.float32, size=batch_size)\n",
    "def compute_policy_loss(i, ta, ta_mean):\n",
    "    # Compute log probs\n",
    "    log_probs = tf.log(tf.reduce_sum(actions_[i][:length_ep[i]] * policy_[i][:length_ep[i]], axis=1) + 0.0001)\n",
    "    # Compute rolling log_probs\n",
    "    rolling_log_probs = tf.map_fn(lambda j: log_probs[j:(j + rollout_ - 1)],\n",
    "                              tf.range(length_ep[i] - rollout_ + 1), dtype=tf.float32)\n",
    "    # Compute rolling rewards\n",
    "    rolling_rewards = tf.map_fn(lambda j: rewards_[i][j:(j + rollout_ - 1)],\n",
    "                              tf.range(length_ep[i] - rollout_ + 1), dtype=tf.float32)\n",
    "    \n",
    "    # Compute policy loss\n",
    "    policy_loss = tf.reduce_sum((rolling_rewards - 0.2 *\n",
    "                                 rolling_log_probs) * discount_[:(rollout_ -1)], axis=1)\n",
    "    \n",
    "    policy_loss_mean = tf.reduce_mean(policy_loss)\n",
    "    \n",
    "    return i + 1, ta. write(i, policy_loss), ta_mean.write(i, policy_loss_mean)\n",
    "\n",
    "# Loop over all episodes\n",
    "_, policy_loss_array, policy_loss_array_mean = tf.while_loop(\n",
    "    lambda i, ta, ta_mean: i < batch_size, compute_policy_loss, [0, policy_loss_array_init, policy_loss_mean_array_init])\n",
    "    \n",
    "\n",
    "tf_loss_map_ = tf.map_fn(lambda i: tf.reduce_mean(0.5 * tf.square(value_loss_array.gather([i]) + policy_loss_array.gather([i]))),\n",
    "                       tf.range(batch_size), dtype = tf.float32)\n",
    "\n",
    "# Compute final weighted loss of all episodes\n",
    "tf_loss_final_ = tf.reduce_sum(tf_loss_map_ * tf.cast(length_ep, dtype=tf.float32))/tf.cast(tf.reduce_sum(length_ep), dtype=tf.float32)\n",
    "\n",
    "tf_loss_mean = tf.reduce_sum(tf.map_fn(lambda i: value_loss_mean_array.gather([i]),\n",
    "                                       tf.range(batch_size),\n",
    "                                       dtype = tf.float32) * tf.cast(length_ep, dtype=tf.float32))/tf.cast(tf.reduce_sum(length_ep), dtype=tf.float32)\n",
    "\n",
    "\n",
    "#tf_loss_value_1 = value_loss_mean_array.gather([0])\n",
    "#tf_loss_value_2 = value_loss_mean_array.gather([1])\n",
    "\n",
    "tf_loss_policy_1 = policy_loss_array_mean.gather([0])\n",
    "tf_loss_policy_2 = policy_loss_array_mean.gather([1])"
   ]
  },
  {
   "cell_type": "code",
   "execution_count": 71,
   "metadata": {
    "collapsed": true
   },
   "outputs": [],
   "source": [
    "feed_dict_ = {\n",
    "    vals:np.reshape(val_, newshape=(3,24)),\n",
    "    length_ep:np.array([24,20,18]),\n",
    "    rollout_:10,\n",
    "    discount_:discount,\n",
    "    actions_:actions,\n",
    "    policy_:pol_,\n",
    "    rewards_: rewards\n",
    "}\n",
    "\n",
    "a,b = sess.run([tf_loss_mean, tf_loss_policy_1], feed_dict_)"
   ]
  },
  {
   "cell_type": "code",
   "execution_count": 68,
   "metadata": {
    "collapsed": true
   },
   "outputs": [],
   "source": [
    "def rolloutPCL(initial_state, rnn_state, env, max_path_length=None, episode_count = 1):\n",
    "\n",
    "    # Perform rollout of given environment\n",
    "    if max_path_length is None:\n",
    "        max_path_length = env.spec.tags.get(\n",
    "            'wrapper_config.TimeLimit.max_episode_steps')\n",
    "\n",
    "    # Define list so save episodes\n",
    "    episodes = []\n",
    "\n",
    "    for i in range(episode_count):\n",
    "        rnn_state_rolling = rnn_state\n",
    "        if i > 0:\n",
    "            # First initial state is supplied\n",
    "            initial_state = env.reset()\n",
    "        states = []\n",
    "        actions = []\n",
    "        rewards = []\n",
    "        agent_infos = []\n",
    "        env_infos = []\n",
    "        values = []\n",
    "        s = np.reshape(initial_state, newshape=[1,len(initial_state)])\n",
    "        path_length = 0\n",
    "\n",
    "        # Sample one episode\n",
    "        while path_length < max_path_length:\n",
    "            s_reshape = np.reshape(s, newshape=[1,STATE_DIM])\n",
    "            a, v, rnn_state_rolling, agent_info = act(s_reshape, rnn_state_rolling, sess)\n",
    "            next_s, r, d, env_info = env.step(np.argmax(a))\n",
    "            states.append(np.squeeze(s_reshape))\n",
    "            rewards.append(r)\n",
    "            values.append(np.squeeze(v))\n",
    "            actions.append(np.argmax(a))\n",
    "            agent_infos.append(agent_info)\n",
    "            env_infos.append(env_info)\n",
    "            path_length += 1\n",
    "            if d:\n",
    "                break\n",
    "            s = next_s\n",
    "        # Append sampled episode\n",
    "        action_array = np.eye(ACTION_DIM, dtype=np.int32)[np.array(actions)]\n",
    "        episodes.append(dict(\n",
    "                                states=np.expand_dims(np.array(states), 0),\n",
    "                                actions=np.expand_dims(np.array(action_array),0),\n",
    "                                rewards=np.expand_dims(np.array(rewards),0),\n",
    "                                values = np.expand_dims(np.reshape(np.array(values), newshape= (len(np.array(values)))), 0),\n",
    "                                agent_infos=np.expand_dims(np.array(agent_infos),0),\n",
    "                                env_infos=np.expand_dims(np.array(env_infos),0)\n",
    "                            ))\n",
    "    return episodes\n",
    "\n",
    "def weighted_pick(weights,n_picks):\n",
    "    t = np.cumsum(weights)\n",
    "    s = np.sum(weights)\n",
    "    return np.searchsorted(t,np.random.rand(n_picks)*s)\n",
    "\n",
    "def act(state, rnn_state, sess):\n",
    "\n",
    "    action_dist, value, rnn_state = sess.run([ac_network_test_.policy, ac_network_test_.value, ac_network_test_.state_out],\n",
    "                                    feed_dict={ac_network_test_.inputs: [state],\n",
    "                                               ac_network_test_.state_in[0]: rnn_state[0],\n",
    "                                               ac_network_test_.state_in[1]: rnn_state[1]})\n",
    "\n",
    "    # Chose action with largest probability\n",
    "    a0 = weighted_pick(action_dist[0], 1)  # Use stochastic distribution sampling\n",
    "    action_one_hot = np.zeros(ACTION_DIM)\n",
    "    action_one_hot[a0] = 1\n",
    "\n",
    "    return action_one_hot, value, rnn_state, action_dist\n"
   ]
  },
  {
   "cell_type": "code",
   "execution_count": null,
   "metadata": {
    "collapsed": true
   },
   "outputs": [],
   "source": [
    "rolloutPCL()"
   ]
  },
  {
   "cell_type": "code",
   "execution_count": 77,
   "metadata": {},
   "outputs": [
    {
     "ename": "ValueError",
     "evalue": "Cannot feed value of shape (24, 1) for Tensor u'worker_0/Placeholder_1:0', which has shape '(?, 16)'",
     "output_type": "error",
     "traceback": [
      "\u001b[0;31m------------------------------------------------------------------------\u001b[0m",
      "\u001b[0;31mValueError\u001b[0m                             Traceback (most recent call last)",
      "\u001b[0;32m<ipython-input-77-fd379290bf4c>\u001b[0m in \u001b[0;36m<module>\u001b[0;34m()\u001b[0m\n\u001b[1;32m      2\u001b[0m \u001b[0minitial_state\u001b[0m \u001b[0;34m=\u001b[0m \u001b[0menv_\u001b[0m\u001b[0;34m.\u001b[0m\u001b[0mreset\u001b[0m\u001b[0;34m(\u001b[0m\u001b[0;34m)\u001b[0m\u001b[0;34m\u001b[0m\u001b[0m\n\u001b[1;32m      3\u001b[0m \u001b[0ms\u001b[0m \u001b[0;34m=\u001b[0m \u001b[0mnp\u001b[0m\u001b[0;34m.\u001b[0m\u001b[0mreshape\u001b[0m\u001b[0;34m(\u001b[0m\u001b[0minitial_state\u001b[0m\u001b[0;34m,\u001b[0m \u001b[0mnewshape\u001b[0m\u001b[0;34m=\u001b[0m\u001b[0;34m[\u001b[0m\u001b[0;36m1\u001b[0m\u001b[0;34m,\u001b[0m\u001b[0mlen\u001b[0m\u001b[0;34m(\u001b[0m\u001b[0minitial_state\u001b[0m\u001b[0;34m)\u001b[0m\u001b[0;34m]\u001b[0m\u001b[0;34m)\u001b[0m\u001b[0;34m\u001b[0m\u001b[0m\n\u001b[0;32m----> 4\u001b[0;31m \u001b[0meps\u001b[0m \u001b[0;34m=\u001b[0m \u001b[0mrolloutPCL\u001b[0m\u001b[0;34m(\u001b[0m\u001b[0minitial_state\u001b[0m\u001b[0;34m,\u001b[0m \u001b[0mval_\u001b[0m\u001b[0;34m,\u001b[0m \u001b[0menv_\u001b[0m\u001b[0;34m,\u001b[0m \u001b[0mepisode_count\u001b[0m\u001b[0;34m=\u001b[0m\u001b[0;36m5\u001b[0m\u001b[0;34m)\u001b[0m\u001b[0;34m\u001b[0m\u001b[0m\n\u001b[0m",
      "\u001b[0;32m<ipython-input-68-43e88fffdd98>\u001b[0m in \u001b[0;36mrolloutPCL\u001b[0;34m(initial_state, rnn_state, env, max_path_length, episode_count)\u001b[0m\n\u001b[1;32m     26\u001b[0m         \u001b[0;32mwhile\u001b[0m \u001b[0mpath_length\u001b[0m \u001b[0;34m<\u001b[0m \u001b[0mmax_path_length\u001b[0m\u001b[0;34m:\u001b[0m\u001b[0;34m\u001b[0m\u001b[0m\n\u001b[1;32m     27\u001b[0m             \u001b[0ms_reshape\u001b[0m \u001b[0;34m=\u001b[0m \u001b[0mnp\u001b[0m\u001b[0;34m.\u001b[0m\u001b[0mreshape\u001b[0m\u001b[0;34m(\u001b[0m\u001b[0ms\u001b[0m\u001b[0;34m,\u001b[0m \u001b[0mnewshape\u001b[0m\u001b[0;34m=\u001b[0m\u001b[0;34m[\u001b[0m\u001b[0;36m1\u001b[0m\u001b[0;34m,\u001b[0m\u001b[0mSTATE_DIM\u001b[0m\u001b[0;34m]\u001b[0m\u001b[0;34m)\u001b[0m\u001b[0;34m\u001b[0m\u001b[0m\n\u001b[0;32m---> 28\u001b[0;31m             \u001b[0ma\u001b[0m\u001b[0;34m,\u001b[0m \u001b[0mv\u001b[0m\u001b[0;34m,\u001b[0m \u001b[0mrnn_state_rolling\u001b[0m\u001b[0;34m,\u001b[0m \u001b[0magent_info\u001b[0m \u001b[0;34m=\u001b[0m \u001b[0mact\u001b[0m\u001b[0;34m(\u001b[0m\u001b[0ms_reshape\u001b[0m\u001b[0;34m,\u001b[0m \u001b[0mrnn_state_rolling\u001b[0m\u001b[0;34m,\u001b[0m \u001b[0msess\u001b[0m\u001b[0;34m)\u001b[0m\u001b[0;34m\u001b[0m\u001b[0m\n\u001b[0m\u001b[1;32m     29\u001b[0m             \u001b[0mnext_s\u001b[0m\u001b[0;34m,\u001b[0m \u001b[0mr\u001b[0m\u001b[0;34m,\u001b[0m \u001b[0md\u001b[0m\u001b[0;34m,\u001b[0m \u001b[0menv_info\u001b[0m \u001b[0;34m=\u001b[0m \u001b[0menv\u001b[0m\u001b[0;34m.\u001b[0m\u001b[0mstep\u001b[0m\u001b[0;34m(\u001b[0m\u001b[0mnp\u001b[0m\u001b[0;34m.\u001b[0m\u001b[0margmax\u001b[0m\u001b[0;34m(\u001b[0m\u001b[0ma\u001b[0m\u001b[0;34m)\u001b[0m\u001b[0;34m)\u001b[0m\u001b[0;34m\u001b[0m\u001b[0m\n\u001b[1;32m     30\u001b[0m             \u001b[0mstates\u001b[0m\u001b[0;34m.\u001b[0m\u001b[0mappend\u001b[0m\u001b[0;34m(\u001b[0m\u001b[0mnp\u001b[0m\u001b[0;34m.\u001b[0m\u001b[0msqueeze\u001b[0m\u001b[0;34m(\u001b[0m\u001b[0ms_reshape\u001b[0m\u001b[0;34m)\u001b[0m\u001b[0;34m)\u001b[0m\u001b[0;34m\u001b[0m\u001b[0m\n",
      "\u001b[0;32m<ipython-input-68-43e88fffdd98>\u001b[0m in \u001b[0;36mact\u001b[0;34m(state, rnn_state, sess)\u001b[0m\n\u001b[1;32m     60\u001b[0m                                     feed_dict={ac_network_test_.inputs: [state],\n\u001b[1;32m     61\u001b[0m                                                \u001b[0mac_network_test_\u001b[0m\u001b[0;34m.\u001b[0m\u001b[0mstate_in\u001b[0m\u001b[0;34m[\u001b[0m\u001b[0;36m0\u001b[0m\u001b[0;34m]\u001b[0m\u001b[0;34m:\u001b[0m \u001b[0mrnn_state\u001b[0m\u001b[0;34m[\u001b[0m\u001b[0;36m0\u001b[0m\u001b[0;34m]\u001b[0m\u001b[0;34m,\u001b[0m\u001b[0;34m\u001b[0m\u001b[0m\n\u001b[0;32m---> 62\u001b[0;31m                                                ac_network_test_.state_in[1]: rnn_state[1]})\n\u001b[0m\u001b[1;32m     63\u001b[0m \u001b[0;34m\u001b[0m\u001b[0m\n\u001b[1;32m     64\u001b[0m     \u001b[0;31m# Chose action with largest probability\u001b[0m\u001b[0;34m\u001b[0m\u001b[0;34m\u001b[0m\u001b[0m\n",
      "\u001b[0;32m/home/adrian/anaconda3/envs/py27/lib/python2.7/site-packages/tensorflow/python/client/session.pyc\u001b[0m in \u001b[0;36mrun\u001b[0;34m(self, fetches, feed_dict, options, run_metadata)\u001b[0m\n\u001b[1;32m    887\u001b[0m     \u001b[0;32mtry\u001b[0m\u001b[0;34m:\u001b[0m\u001b[0;34m\u001b[0m\u001b[0m\n\u001b[1;32m    888\u001b[0m       result = self._run(None, fetches, feed_dict, options_ptr,\n\u001b[0;32m--> 889\u001b[0;31m                          run_metadata_ptr)\n\u001b[0m\u001b[1;32m    890\u001b[0m       \u001b[0;32mif\u001b[0m \u001b[0mrun_metadata\u001b[0m\u001b[0;34m:\u001b[0m\u001b[0;34m\u001b[0m\u001b[0m\n\u001b[1;32m    891\u001b[0m         \u001b[0mproto_data\u001b[0m \u001b[0;34m=\u001b[0m \u001b[0mtf_session\u001b[0m\u001b[0;34m.\u001b[0m\u001b[0mTF_GetBuffer\u001b[0m\u001b[0;34m(\u001b[0m\u001b[0mrun_metadata_ptr\u001b[0m\u001b[0;34m)\u001b[0m\u001b[0;34m\u001b[0m\u001b[0m\n",
      "\u001b[0;32m/home/adrian/anaconda3/envs/py27/lib/python2.7/site-packages/tensorflow/python/client/session.pyc\u001b[0m in \u001b[0;36m_run\u001b[0;34m(self, handle, fetches, feed_dict, options, run_metadata)\u001b[0m\n\u001b[1;32m   1094\u001b[0m                 \u001b[0;34m'Cannot feed value of shape %r for Tensor %r, '\u001b[0m\u001b[0;34m\u001b[0m\u001b[0m\n\u001b[1;32m   1095\u001b[0m                 \u001b[0;34m'which has shape %r'\u001b[0m\u001b[0;34m\u001b[0m\u001b[0m\n\u001b[0;32m-> 1096\u001b[0;31m                 % (np_val.shape, subfeed_t.name, str(subfeed_t.get_shape())))\n\u001b[0m\u001b[1;32m   1097\u001b[0m           \u001b[0;32mif\u001b[0m \u001b[0;32mnot\u001b[0m \u001b[0mself\u001b[0m\u001b[0;34m.\u001b[0m\u001b[0mgraph\u001b[0m\u001b[0;34m.\u001b[0m\u001b[0mis_feedable\u001b[0m\u001b[0;34m(\u001b[0m\u001b[0msubfeed_t\u001b[0m\u001b[0;34m)\u001b[0m\u001b[0;34m:\u001b[0m\u001b[0;34m\u001b[0m\u001b[0m\n\u001b[1;32m   1098\u001b[0m             \u001b[0;32mraise\u001b[0m \u001b[0mValueError\u001b[0m\u001b[0;34m(\u001b[0m\u001b[0;34m'Tensor %s may not be fed.'\u001b[0m \u001b[0;34m%\u001b[0m \u001b[0msubfeed_t\u001b[0m\u001b[0;34m)\u001b[0m\u001b[0;34m\u001b[0m\u001b[0m\n",
      "\u001b[0;31mValueError\u001b[0m: Cannot feed value of shape (24, 1) for Tensor u'worker_0/Placeholder_1:0', which has shape '(?, 16)'"
     ]
    }
   ],
   "source": [
    "env_ = gym.make(ENV_NAME)\n",
    "initial_state = env_.reset()\n",
    "s = np.reshape(initial_state, newshape=[1,len(initial_state)])\n",
    "eps = rolloutPCL(initial_state, val_, env_, episode_count=5)"
   ]
  },
  {
   "cell_type": "code",
   "execution_count": 31,
   "metadata": {},
   "outputs": [
    {
     "name": "stdout",
     "output_type": "stream",
     "text": [
      "(1, 10, 2)\n",
      "(1, 10, 4)\n",
      "(1, 10)\n",
      "(1, 10)\n",
      "(1, 10, 1, 1, 2)\n",
      "(1, 10)\n"
     ]
    }
   ],
   "source": [
    "print(np.shape(eps[0][\"actions\"]))\n",
    "print(np.shape(eps[0][\"states\"]))\n",
    "print(np.shape(eps[0][\"rewards\"]))\n",
    "print(np.shape(eps[0][\"values\"]))\n",
    "print(np.shape(eps[0][\"agent_infos\"]))\n",
    "print(np.shape(eps[0][\"env_infos\"]))"
   ]
  },
  {
   "cell_type": "code",
   "execution_count": 20,
   "metadata": {
    "collapsed": true
   },
   "outputs": [],
   "source": [
    "replay_buffer_PCL = ReplayBuffer()\n",
    "replay_buffer_PCL.add(eps)"
   ]
  },
  {
   "cell_type": "code",
   "execution_count": 47,
   "metadata": {
    "collapsed": true
   },
   "outputs": [],
   "source": [
    "sampled_eps = replay_buffer_PCL.sample(3)\n",
    "max_len = max([len(ep[\"actions\"][0]) for ep in sampled_eps])\n",
    "\n",
    "states_start = np.pad(sampled_eps[0][\"states\"], [(0, 0), (0, max_len-np.shape(sampled_eps[0][\"states\"])[1]), (0,0)], mode='constant')\n",
    "actions_start =  np.pad(sampled_eps[0][\"actions\"], [(0, 0), (0, max_len-np.shape(sampled_eps[0][\"actions\"])[1]), (0,0)], mode='constant')\n",
    "values_start = np.pad(sampled_eps[0][\"values\"], [(0, 0), (0, max_len-np.shape(sampled_eps[0][\"values\"])[1])], mode='constant')\n",
    "rewards_start = np.pad(sampled_eps[0][\"rewards\"], [(0, 0), (0, max_len-np.shape(sampled_eps[0][\"rewards\"])[1])], mode='constant')\n",
    "\n",
    "for i in range(len(sampled_eps) - 1):\n",
    "    states_start = np.concatenate((states_start, np.pad(sampled_eps[i+1][\"states\"], \n",
    "                                                        [(0, 0), (0, max_len-np.shape(sampled_eps[i+1][\"states\"])[1]), (0,0)], mode='constant')),\n",
    "                                  axis = 0)\n",
    "    actions_start = np.concatenate((actions_start, np.pad(sampled_eps[i+1][\"actions\"], \n",
    "                                                        [(0, 0), (0, max_len-np.shape(sampled_eps[i+1][\"actions\"])[1]), (0,0)], mode='constant')),\n",
    "                                  axis = 0)\n",
    "    values_start = np.concatenate((values_start, np.pad(sampled_eps[i+1][\"values\"], \n",
    "                                                        [(0, 0), (0, max_len-np.shape(sampled_eps[i+1][\"values\"])[1])], mode='constant')),\n",
    "                                  axis = 0)\n",
    "    rewards_start = np.concatenate((rewards_start, np.pad(sampled_eps[i+1][\"rewards\"], \n",
    "                                                        [(0, 0), (0, max_len-np.shape(sampled_eps[i+1][\"rewards\"])[1])], mode='constant')),\n",
    "                                  axis = 0)"
   ]
  },
  {
   "cell_type": "code",
   "execution_count": 28,
   "metadata": {
    "collapsed": true
   },
   "outputs": [],
   "source": [
    "env_count = 10\n",
    "\n",
    "actions = np.random.binomial(1, 0.5, size = (env_count,1,2)) \n",
    "discount = np.array([GAMMA**i for i in range(10)], dtype=np.float32)\n",
    "rewards = np.random.binomial(5, 0.5, size = (env_count,1))\n",
    "\n",
    "init_c = np.zeros(shape = (env_count, 16))\n",
    "init_h = np.zeros(shape = (env_count, 16))\n",
    "process_ = np.random.normal(size = (env_count,1,4))\n",
    "#process_ = np.reshape(process_, newshape= [3,1,4])\n",
    "\n",
    "feed_dict_ = {\n",
    "    ac_network_test_.inputs:process_,\n",
    "    ac_network_test_.state_in[0]:init_c,\n",
    "    ac_network_test_.state_in[1]:init_h,\n",
    "    ac_network_test_.actions:actions,\n",
    "    ac_network_test_.rewards:rewards,\n",
    "    ac_network_test_.discount:discount,\n",
    "    ac_network_test_.rollout:10\n",
    "}\n",
    "\n",
    "pol_, val_ , rnn_state = sess.run([ac_network_test_.policy, ac_network_test_.value, ac_network_test_.state_out], feed_dict = feed_dict_)"
   ]
  },
  {
   "cell_type": "code",
   "execution_count": 29,
   "metadata": {},
   "outputs": [
    {
     "name": "stdout",
     "output_type": "stream",
     "text": [
      "(10, 1, 2)\n",
      "(10, 1, 1)\n",
      "(2, 10, 16)\n"
     ]
    }
   ],
   "source": [
    "print(np.shape(pol_))\n",
    "print(np.shape(val_))\n",
    "print(np.shape(rnn_state))"
   ]
  },
  {
   "cell_type": "markdown",
   "metadata": {},
   "source": [
    "Define Gym Wrapepr"
   ]
  },
  {
   "cell_type": "code",
   "execution_count": 30,
   "metadata": {
    "collapsed": true
   },
   "outputs": [],
   "source": [
    "# Weighted random selection returns n_picks random indexes.\n",
    "# the chance to pick the index i is give by the weight weights[i].\n",
    "def weighted_pick(weights,n_picks):\n",
    "    t = np.cumsum(weights)\n",
    "    s = np.sum(weights)\n",
    "    return np.searchsorted(t,np.random.rand(n_picks)*s)\n",
    "\n",
    "actions = [weighted_pick(a,1) for a in pol_]\n",
    "action_one_hot = np.eye(ACTION_DIM, dtype=np.int32)[np.array(actions)]"
   ]
  },
  {
   "cell_type": "markdown",
   "metadata": {},
   "source": [
    "Get actions for every step"
   ]
  },
  {
   "cell_type": "code",
   "execution_count": 32,
   "metadata": {
    "collapsed": true
   },
   "outputs": [],
   "source": [
    "act_ = [np.argmax(a) for a in action_one_hot]"
   ]
  },
  {
   "cell_type": "code",
   "execution_count": 93,
   "metadata": {},
   "outputs": [
    {
     "data": {
      "text/plain": [
       "(10, 1, 2)"
      ]
     },
     "execution_count": 93,
     "metadata": {},
     "output_type": "execute_result"
    }
   ],
   "source": [
    "np.shape(action_one_hot)"
   ]
  },
  {
   "cell_type": "markdown",
   "metadata": {},
   "source": [
    "Define 10 independent envs"
   ]
  },
  {
   "cell_type": "code",
   "execution_count": 7,
   "metadata": {
    "collapsed": true
   },
   "outputs": [],
   "source": [
    "envs_cart = GymWrapper(ENV_NAME, count = 10)\n",
    "initial_obs = envs_cart.reset()"
   ]
  },
  {
   "cell_type": "markdown",
   "metadata": {},
   "source": [
    "Perform one step in every env"
   ]
  },
  {
   "cell_type": "code",
   "execution_count": 140,
   "metadata": {},
   "outputs": [
    {
     "name": "stdout",
     "output_type": "stream",
     "text": [
      "(10, 1, 4)\n",
      "(10, 1)\n",
      "(10,)\n",
      "(10, 1, 1)\n"
     ]
    }
   ],
   "source": [
    "next_obs, reward_class, done_class, tt_class , out_= envs_cart.step(act_)\n",
    "reward_class = np.expand_dims(reward_class, 1)\n",
    "print(np.shape(next_obs))\n",
    "print(np.shape(reward_class))\n",
    "print(np.shape(done_class))\n",
    "print(np.shape(val_))"
   ]
  },
  {
   "cell_type": "code",
   "execution_count": 141,
   "metadata": {
    "collapsed": true
   },
   "outputs": [],
   "source": [
    "episode_buffer = []\n",
    "episode_buffer.append([initial_obs, action_one_hot, reward_class])\n",
    "episode_buffer.append([next_obs, action_one_hot, reward_class])"
   ]
  },
  {
   "cell_type": "code",
   "execution_count": 178,
   "metadata": {
    "collapsed": true
   },
   "outputs": [],
   "source": [
    "episode_states = np.array([], dtype=np.float32).reshape(10,0,4)\n",
    "episode_reward = np.array([], dtype=np.float32).reshape(10,0)\n",
    "\n"
   ]
  },
  {
   "cell_type": "code",
   "execution_count": 187,
   "metadata": {},
   "outputs": [
    {
     "data": {
      "text/plain": [
       "(10, 1)"
      ]
     },
     "execution_count": 187,
     "metadata": {},
     "output_type": "execute_result"
    }
   ],
   "source": [
    "np.expand_dims(np.squeeze(val_), 1)"
   ]
  },
  {
   "cell_type": "code",
   "execution_count": 174,
   "metadata": {},
   "outputs": [
    {
     "data": {
      "text/plain": [
       "(10, 2, 4)"
      ]
     },
     "execution_count": 174,
     "metadata": {},
     "output_type": "execute_result"
    }
   ],
   "source": [
    "new = np.concatenate((asd, initial_obs), 1)\n",
    "np.shape(np.concatenate((next_obs, new), 1))"
   ]
  },
  {
   "cell_type": "code",
   "execution_count": 180,
   "metadata": {},
   "outputs": [
    {
     "data": {
      "text/plain": [
       "(10, 1)"
      ]
     },
     "execution_count": 180,
     "metadata": {},
     "output_type": "execute_result"
    }
   ],
   "source": [
    "np.shape(np.concatenate((episode_reward, reward_class), 1))"
   ]
  },
  {
   "cell_type": "code",
   "execution_count": 188,
   "metadata": {},
   "outputs": [
    {
     "data": {
      "text/plain": [
       "10"
      ]
     },
     "execution_count": 188,
     "metadata": {},
     "output_type": "execute_result"
    }
   ],
   "source": [
    "len(envs)"
   ]
  },
  {
   "cell_type": "markdown",
   "metadata": {},
   "source": [
    "**** A3C Batch ****"
   ]
  },
  {
   "cell_type": "code",
   "execution_count": 20,
   "metadata": {
    "collapsed": true
   },
   "outputs": [],
   "source": [
    "tf.reset_default_graph()\n",
    "sess = tf.Session()\n",
    "trainer = tf.train.AdamOptimizer(learning_rate=LEARNING_RATE)\n",
    "ac_network_test = AC_Network(STATE_DIM, ACTION_DIM, \"global\", None, network_config, TAU, ROLLOUT, METHOD)\n",
    "ac_network_test_ = AC_Network(STATE_DIM, ACTION_DIM, \"worker_0\", trainer, network_config, TAU, ROLLOUT, METHOD)\n",
    "\n",
    "sess.run(tf.global_variables_initializer())"
   ]
  },
  {
   "cell_type": "code",
   "execution_count": 27,
   "metadata": {},
   "outputs": [
    {
     "name": "stdout",
     "output_type": "stream",
     "text": [
      "(10, 20, 4)\n",
      "(10, 20, 2)\n",
      "(10, 20)\n",
      "(10, 20)\n",
      "(10, 20)\n",
      "(2, 10, 16)\n"
     ]
    }
   ],
   "source": [
    "envs_cart = GymWrapper(ENV_NAME, count = 10)\n",
    "\n",
    "episode_states_train = np.array([], dtype=np.float32).reshape(len(envs_cart),0,STATE_DIM)\n",
    "episode_reward_train = np.array([], dtype=np.float32).reshape(len(envs_cart),0)\n",
    "episode_actions_train = np.array([], dtype=np.float32).reshape(len(envs_cart),0, ACTION_DIM)\n",
    "episode_values_train = np.array([], dtype=np.float32).reshape(len(envs_cart),0)\n",
    "episode_done_train = np.array([], dtype=np.float32).reshape(len(envs_cart),0)\n",
    "episode_reward = []\n",
    "episode_values = []\n",
    "\n",
    "def weighted_pick(weights,n_picks):\n",
    "    t = np.cumsum(weights)\n",
    "    s = np.sum(weights)\n",
    "    return np.searchsorted(t,np.random.rand(n_picks)*s)\n",
    "\n",
    "env_count = len(envs_cart)\n",
    "s = envs_cart.reset()\n",
    "init_c = np.zeros(shape = (env_count, 16))\n",
    "init_h = np.zeros(shape = (env_count, 16))\n",
    "    \n",
    "for i in range(20):\n",
    "    env_count = 10\n",
    "    \n",
    "    discount = np.array([GAMMA**i for i in range(10)], dtype=np.float32)\n",
    "\n",
    "    process_ = np.random.normal(size = (env_count,1,4))\n",
    "    #process_ = np.reshape(process_, newshape= [3,1,4])\n",
    "\n",
    "    feed_dict_ = {\n",
    "        ac_network_test_.inputs:s,\n",
    "        ac_network_test_.state_in[0]:init_c,\n",
    "        ac_network_test_.state_in[1]:init_h,\n",
    "    }\n",
    "\n",
    "    action_dist, v , rnn_state = sess.run([ac_network_test_.policy, ac_network_test_.value, ac_network_test_.state_out],\n",
    "                                      feed_dict = feed_dict_)\n",
    "\n",
    "    a0 = [weighted_pick(a,1) for a in action_dist]  # Use stochastic distribution sampling\n",
    "    action_one_hot = np.eye(ACTION_DIM, dtype=np.int32)[np.array(a0)]\n",
    "    act_ = [np.argmax(a_) for a_ in action_one_hot]\n",
    "    \n",
    "    s_next, r, done, tt_class  = envs_cart.step(act_)\n",
    "    episode_reward.append(r)\n",
    "    episode_values.append(v)\n",
    "    \n",
    "    episode_states_train = np.concatenate((episode_states_train, s), 1)\n",
    "    episode_reward_train = np.concatenate((episode_reward_train, np.expand_dims(r, 1)), 1)\n",
    "    episode_actions_train = np.concatenate((episode_actions_train, action_one_hot), 1)\n",
    "    episode_values_train = np.concatenate((episode_values_train, np.expand_dims(np.squeeze(v), 1)), 1)\n",
    "    episode_done_train = np.concatenate((episode_done_train, np.expand_dims(done, 1)), 1)\n",
    "\n",
    "    s = s_next\n",
    "    init_c = rnn_state[0]\n",
    "    init_h = rnn_state[1]\n",
    "\n",
    "v1 = np.squeeze(sess.run([ac_network_test_.value],\n",
    "                feed_dict={ac_network_test_.inputs: s,\n",
    "                            ac_network_test_.state_in[0]: rnn_state[0],\n",
    "                            ac_network_test_.state_in[1]: rnn_state[1]}))\n",
    "\n",
    "    \n",
    "    \n",
    "print(np.shape(episode_states_train))\n",
    "print(np.shape(episode_actions_train))\n",
    "print(np.shape(episode_reward_train))\n",
    "print(np.shape(episode_values_train))\n",
    "print(np.shape(episode_done_train))\n",
    "print(np.shape(rnn_state))"
   ]
  },
  {
   "cell_type": "code",
   "execution_count": 28,
   "metadata": {},
   "outputs": [
    {
     "data": {
      "text/plain": [
       "[True, True, False, True, False, False, True, True, True, True]"
      ]
     },
     "execution_count": 28,
     "metadata": {},
     "output_type": "execute_result"
    }
   ],
   "source": [
    "envs_cart.dones"
   ]
  },
  {
   "cell_type": "code",
   "execution_count": 36,
   "metadata": {},
   "outputs": [],
   "source": [
    "def discounting(x, gamma):\n",
    "    return scipy.signal.lfilter([1], [1, -gamma], x[::-1], axis=0)[::-1]\n",
    "\n",
    "states = worker.episode_states_train\n",
    "rewards = episode_reward_train\n",
    "actions = episode_actions_train\n",
    "values = episode_values_train\n",
    "terminal = episode_done_train\n",
    "gamma = 0.95\n",
    "r = v1\n",
    "\n",
    "# Get length of different rollouts --> Since given e.g. 10 envs maybe 5 terminated earlier\n",
    "lengths_rollouts = [int(-1 * sum(done - 1)) for done in terminal]\n",
    "\n",
    "# Get batch size\n",
    "batch_size = len(states)\n",
    "\n",
    "# Max len batch\n",
    "max_len = len(states[0])\n",
    "\n",
    "rewards_list = []\n",
    "for i in range(batch_size):\n",
    "    if not envs_cart.dones[i]:\n",
    "        rewards_list.append(np.asarray(rewards[i].tolist()[:lengths_rollouts[i]]+[r[i]]))\n",
    "    else:\n",
    "        rewards_list.append(np.asarray(rewards[i].tolist()[:lengths_rollouts[i]]))"
   ]
  },
  {
   "cell_type": "code",
   "execution_count": 63,
   "metadata": {},
   "outputs": [
    {
     "data": {
      "text/plain": [
       "array([[[1., 0.],\n",
       "        [1., 0.],\n",
       "        [1., 0.],\n",
       "        [0., 1.],\n",
       "        [1., 0.],\n",
       "        [1., 0.],\n",
       "        [0., 1.],\n",
       "        [1., 0.],\n",
       "        [0., 1.],\n",
       "        [1., 0.],\n",
       "        [0., 1.],\n",
       "        [1., 0.],\n",
       "        [1., 0.],\n",
       "        [0., 1.],\n",
       "        [1., 0.]],\n",
       "\n",
       "       [[0., 1.],\n",
       "        [1., 0.],\n",
       "        [0., 1.],\n",
       "        [0., 1.],\n",
       "        [1., 0.],\n",
       "        [0., 1.],\n",
       "        [0., 1.],\n",
       "        [0., 1.],\n",
       "        [1., 0.],\n",
       "        [0., 1.],\n",
       "        [1., 0.],\n",
       "        [0., 1.],\n",
       "        [1., 0.],\n",
       "        [0., 1.],\n",
       "        [0., 1.]]])"
      ]
     },
     "execution_count": 63,
     "metadata": {},
     "output_type": "execute_result"
    }
   ],
   "source": [
    "worker.episode_actions_train"
   ]
  },
  {
   "cell_type": "code",
   "execution_count": 59,
   "metadata": {},
   "outputs": [
    {
     "ename": "ValueError",
     "evalue": "all input arrays must have the same shape",
     "output_type": "error",
     "traceback": [
      "\u001b[0;31m---------------------------------------------------------------------------\u001b[0m",
      "\u001b[0;31mValueError\u001b[0m                                Traceback (most recent call last)",
      "\u001b[0;32m<ipython-input-59-5d5e2a26b659>\u001b[0m in \u001b[0;36m<module>\u001b[0;34m()\u001b[0m\n\u001b[1;32m     44\u001b[0m \u001b[0;34m\u001b[0m\u001b[0m\n\u001b[1;32m     45\u001b[0m \u001b[0mpadded_discounted_rewards\u001b[0m \u001b[0;34m=\u001b[0m \u001b[0;34m[\u001b[0m\u001b[0mnp\u001b[0m\u001b[0;34m.\u001b[0m\u001b[0mpad\u001b[0m\u001b[0;34m(\u001b[0m\u001b[0mdiscounted_rewards\u001b[0m\u001b[0;34m[\u001b[0m\u001b[0mi\u001b[0m\u001b[0;34m]\u001b[0m\u001b[0;34m,\u001b[0m \u001b[0;34m[\u001b[0m\u001b[0;34m(\u001b[0m\u001b[0;36m0\u001b[0m\u001b[0;34m,\u001b[0m \u001b[0mmax_len\u001b[0m \u001b[0;34m-\u001b[0m \u001b[0mlengths_rollouts\u001b[0m\u001b[0;34m[\u001b[0m\u001b[0mi\u001b[0m\u001b[0;34m]\u001b[0m\u001b[0;34m)\u001b[0m\u001b[0;34m]\u001b[0m\u001b[0;34m,\u001b[0m \u001b[0mmode\u001b[0m\u001b[0;34m=\u001b[0m\u001b[0;34m\"constant\"\u001b[0m\u001b[0;34m)\u001b[0m \u001b[0;32mfor\u001b[0m \u001b[0mi\u001b[0m \u001b[0;32min\u001b[0m \u001b[0mrange\u001b[0m\u001b[0;34m(\u001b[0m\u001b[0mbatch_size\u001b[0m\u001b[0;34m)\u001b[0m\u001b[0;34m]\u001b[0m\u001b[0;34m\u001b[0m\u001b[0m\n\u001b[0;32m---> 46\u001b[0;31m \u001b[0mpadded_discounted_rewards\u001b[0m \u001b[0;34m=\u001b[0m \u001b[0mnp\u001b[0m\u001b[0;34m.\u001b[0m\u001b[0mstack\u001b[0m\u001b[0;34m(\u001b[0m\u001b[0mpadded_discounted_rewards\u001b[0m\u001b[0;34m)\u001b[0m\u001b[0;34m\u001b[0m\u001b[0m\n\u001b[0m",
      "\u001b[0;32m/home/adrian/anaconda3/envs/py27/lib/python2.7/site-packages/numpy/core/shape_base.pyc\u001b[0m in \u001b[0;36mstack\u001b[0;34m(arrays, axis, out)\u001b[0m\n\u001b[1;32m    351\u001b[0m     \u001b[0mshapes\u001b[0m \u001b[0;34m=\u001b[0m \u001b[0mset\u001b[0m\u001b[0;34m(\u001b[0m\u001b[0marr\u001b[0m\u001b[0;34m.\u001b[0m\u001b[0mshape\u001b[0m \u001b[0;32mfor\u001b[0m \u001b[0marr\u001b[0m \u001b[0;32min\u001b[0m \u001b[0marrays\u001b[0m\u001b[0;34m)\u001b[0m\u001b[0;34m\u001b[0m\u001b[0m\n\u001b[1;32m    352\u001b[0m     \u001b[0;32mif\u001b[0m \u001b[0mlen\u001b[0m\u001b[0;34m(\u001b[0m\u001b[0mshapes\u001b[0m\u001b[0;34m)\u001b[0m \u001b[0;34m!=\u001b[0m \u001b[0;36m1\u001b[0m\u001b[0;34m:\u001b[0m\u001b[0;34m\u001b[0m\u001b[0m\n\u001b[0;32m--> 353\u001b[0;31m         \u001b[0;32mraise\u001b[0m \u001b[0mValueError\u001b[0m\u001b[0;34m(\u001b[0m\u001b[0;34m'all input arrays must have the same shape'\u001b[0m\u001b[0;34m)\u001b[0m\u001b[0;34m\u001b[0m\u001b[0m\n\u001b[0m\u001b[1;32m    354\u001b[0m \u001b[0;34m\u001b[0m\u001b[0m\n\u001b[1;32m    355\u001b[0m     \u001b[0mresult_ndim\u001b[0m \u001b[0;34m=\u001b[0m \u001b[0marrays\u001b[0m\u001b[0;34m[\u001b[0m\u001b[0;36m0\u001b[0m\u001b[0;34m]\u001b[0m\u001b[0;34m.\u001b[0m\u001b[0mndim\u001b[0m \u001b[0;34m+\u001b[0m \u001b[0;36m1\u001b[0m\u001b[0;34m\u001b[0m\u001b[0m\n",
      "\u001b[0;31mValueError\u001b[0m: all input arrays must have the same shape"
     ]
    }
   ],
   "source": [
    "def discounting(x, gamma):\n",
    "    return scipy.signal.lfilter([1], [1, -gamma], x[::-1], axis=0)[::-1]\n",
    "\n",
    "states = worker.episode_states_train\n",
    "rewards = worker.episode_reward_train\n",
    "actions = worker.episode_actions_train\n",
    "values = worker.episode_values_train\n",
    "terminal = worker.episode_done_train\n",
    "gamma = 0.95\n",
    "r = v1\n",
    "\n",
    "# Get length of different rollouts --> Since given e.g. 10 envs maybe 5 terminated earlier\n",
    "lengths_rollouts = [int(-1 * sum(done - 1)) for done in terminal]\n",
    "\n",
    "# Get batch size\n",
    "batch_size = len(states)\n",
    "\n",
    "# Max len batch\n",
    "max_len = len(states[0])\n",
    "\n",
    "# Here we take the rewards and values from the rollout, and use them to\n",
    "# generate the advantage and discounted returns.\n",
    "rewards_list = [np.asarray(rewards[i].tolist()[:lengths_rollouts[i]]) * 0.001 for i in range(batch_size)]\n",
    "discounted_rewards = [discounting(rewards_list[i], gamma)[:-1] for i in range(batch_size)]\n",
    "\n",
    "# Advantage estimation\n",
    "# JS, P Moritz, S Levine, M Jordan, P Abbeel,\n",
    "# \"High-dimensional continuous control using generalized advantage estimation.\"\n",
    "# arXiv preprint arXiv:1506.02438 (2015).\n",
    "values_list = []\n",
    "for i in range(batch_size):\n",
    "    if not True:\n",
    "        values_list.append(np.asarray(rewards[i].tolist()[:lengths_rollouts[i]] + [r[i]]) * 0.001)\n",
    "    else:\n",
    "        values_list.append(np.asarray(rewards[i].tolist()[:lengths_rollouts[i]] + [0]) * 0.001)\n",
    "#values_list = [np.asarray(values[i].tolist()[:lengths_rollouts[i]]+[r[i]]) * 0.001 for i in range(batch_size)]\n",
    "\n",
    "# Compute TD residual of V with discount gamma --> can be considered as the advantage of the action a_t\n",
    "advantages = [rewards[i][:lengths_rollouts[i]] + gamma * values_list[i][1:] - values_list[i][:-1] for i in range(batch_size)]\n",
    "discounted_advantages = [discounting(advantages[i], gamma) for i in range(batch_size)]\n",
    "\n",
    "padded_discounted_advantages = [np.pad(discounted_advantages[i], [(0, max_len - lengths_rollouts[i])], mode = \"constant\") for i in range(batch_size)]\n",
    "padded_discounted_advantages = np.vstack(padded_discounted_advantages)\n",
    "\n",
    "padded_discounted_rewards = [np.pad(discounted_rewards[i], [(0, max_len - lengths_rollouts[i])], mode=\"constant\") for i in range(batch_size)]\n",
    "padded_discounted_rewards = np.stack(padded_discounted_rewards)\n"
   ]
  },
  {
   "cell_type": "code",
   "execution_count": 40,
   "metadata": {},
   "outputs": [
    {
     "data": {
      "text/plain": [
       "(10, 20)"
      ]
     },
     "execution_count": 40,
     "metadata": {},
     "output_type": "execute_result"
    }
   ],
   "source": [
    "np.shape((padded_discounted_advantages))"
   ]
  },
  {
   "cell_type": "code",
   "execution_count": 19,
   "metadata": {
    "collapsed": true
   },
   "outputs": [],
   "source": [
    "tf.reset_default_graph()\n",
    "sess = tf.Session()\n",
    "\n",
    "#policy = actions = tf.placeholder(shape=[None, None, 1], dtype=tf.float32)\n",
    "value = actions = tf.placeholder(shape=[None, None], dtype=tf.float32)\n",
    "actions = tf.placeholder(shape=[None, None, 2], dtype=tf.float32)\n",
    "target_v = tf.placeholder(shape=[None, None], dtype=tf.float32)\n",
    "advantages = tf.placeholder(shape=[None, None], dtype=tf.float32)\n",
    "seq_lens = tf.placeholder(shape=[None], dtype=tf.int32)\n",
    "\n",
    "batch_size = tf.shape(target_v)[0]\n",
    "max_len = tf.shape(target_v)[1]\n",
    "\n",
    "value_loss_array_init = tf.TensorArray(tf.float32, size=batch_size)\n",
    "\n",
    "def compute_value_loss(i, ta):\n",
    "    value_loss_temp = 0.5 * tf.reduce_sum(tf.square(target_v[i][:seq_lens[i]] - value[i][:seq_lens[i]]))\n",
    "    return i +1, ta.write(i, value_loss_temp)\n",
    "\n",
    "# Loop over all episodes\n",
    "_, value_loss_array = tf.while_loop(\n",
    "    lambda i, ta: i < batch_size, compute_value_loss, [0, value_loss_array_init])\n",
    "\n",
    "val_1 = value_loss_array.gather([1])"
   ]
  },
  {
   "cell_type": "code",
   "execution_count": 20,
   "metadata": {},
   "outputs": [
    {
     "data": {
      "text/plain": [
       "[array([0.17833658], dtype=float32)]"
      ]
     },
     "execution_count": 20,
     "metadata": {},
     "output_type": "execute_result"
    }
   ],
   "source": [
    "feed_dict_ = {\n",
    "    #policy: \n",
    "    value: episode_values_train,\n",
    "    actions: episode_actions_train,\n",
    "    target_v: padded_discounted_rewards,\n",
    "    advantages: padded_discounted_advantages,\n",
    "    seq_lens: lengths_rollouts\n",
    "}\n",
    "\n",
    "sess.run([val_1], feed_dict_)"
   ]
  },
  {
   "cell_type": "code",
   "execution_count": null,
   "metadata": {
    "collapsed": true
   },
   "outputs": [],
   "source": []
  },
  {
   "cell_type": "code",
   "execution_count": 400,
   "metadata": {},
   "outputs": [
    {
     "name": "stdout",
     "output_type": "stream",
     "text": [
      "(10, 40)\n",
      "(10, 40)\n",
      "(10, 40, 2)\n",
      "(10, 40, 4)\n"
     ]
    }
   ],
   "source": [
    "print(np.shape(padded_discounted_rewards))\n",
    "print(np.shape(padded_discounted_advantages))\n",
    "print(np.shape(actions))\n",
    "print(np.shape(states))"
   ]
  }
 ],
 "metadata": {
  "kernelspec": {
   "display_name": "Python 2",
   "language": "python",
   "name": "python2"
  },
  "language_info": {
   "codemirror_mode": {
    "name": "ipython",
    "version": 2
   },
   "file_extension": ".py",
   "mimetype": "text/x-python",
   "name": "python",
   "nbconvert_exporter": "python",
   "pygments_lexer": "ipython2",
   "version": "2.7.14"
  }
 },
 "nbformat": 4,
 "nbformat_minor": 2
}
