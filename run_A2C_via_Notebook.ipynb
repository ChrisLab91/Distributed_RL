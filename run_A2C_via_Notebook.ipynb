{
 "cells": [
  {
   "cell_type": "code",
   "execution_count": 6,
   "metadata": {},
   "outputs": [],
   "source": [
    "import numpy as np\n",
    "import tensorflow.contrib.slim as slim\n",
    "import scipy.signal\n",
    "import gym\n",
    "import os\n",
    "import threading\n",
    "import multiprocessing\n",
    "import tensorflow as tf\n",
    "import ac_network\n",
    "import worker\n",
    "import matplotlib.pyplot as plt\n",
    "import replay_buffer\n",
    "import gym_wrapper\n",
    "\n",
    "reload(ac_network)\n",
    "reload(worker)\n",
    "reload(replay_buffer)\n",
    "reload(gym_wrapper)\n",
    "\n",
    "from gym_wrapper import GymWrapper\n",
    "from ac_network import AC_Network\n",
    "from worker import Worker\n",
    "from replay_buffer import ReplayBuffer"
   ]
  },
  {
   "cell_type": "markdown",
   "metadata": {},
   "source": [
    "** Setup of hyperparameters **"
   ]
  },
  {
   "cell_type": "code",
   "execution_count": 7,
   "metadata": {
    "collapsed": true
   },
   "outputs": [],
   "source": [
    "# Tensorboard dir\n",
    "LOG_DIR = '/home/adrian/Schreibtisch/Uni/Data-Innovation-Lab/DILAB/tensorflowlogs'\n",
    "\n",
    "# Gym environment\n",
    "ENV_NAME = 'CartPole-v0'  # Discrete (4, 2)\n",
    "RANDOM_SEED = 1234\n",
    "STATE_DIM = 4\n",
    "ACTION_DIM = 2\n",
    "NUM_ENVS = 3\n",
    "\n",
    "# Neural network spec\n",
    "CELL_UNITS = 16\n",
    "# Learning rate\n",
    "LEARNING_RATE = 0.0007\n",
    "\n",
    "# Exploration spec\n",
    "ENTROPY_REGULARIZATION = True\n",
    "ENTROPY_REGULARIZATION_LAMBDA = 0.1\n",
    "# Noisy net settings \n",
    "# 1.Option --> None (normal fully connected layers)\n",
    "# 2.Option --> \"factorized\"\n",
    "# 3.Option --> \"independent\"\n",
    "NOISE_DIST = 'factorized'\n",
    "\n",
    "# Size of mini batches to run training on\n",
    "MINI_BATCH = 40\n",
    "REWARD_FACTOR = 0.001\n",
    "# Discount rate for advantage estimation and reward discounting\n",
    "GAMMA = 0.99\n",
    "EPISODE_RUNS = 1000\n",
    "\n",
    "METHOD = \"PCL\"\n",
    "TAU = 0.1\n",
    "ROLLOUT = 20\n",
    "\n",
    "# Define network configuration\n",
    "network_config = dict(shared = True,\n",
    "                      shared_config = dict(kind = 'RNN',\n",
    "                                           Cell_Units = 16),\n",
    "                      policy_config = dict(layers = [8,2],\n",
    "                                           noise_dist = None),\n",
    "                      value_config = dict(layers = [8,1],\n",
    "                                          noise_dist = None))"
   ]
  },
  {
   "cell_type": "code",
   "execution_count": 125,
   "metadata": {
    "scrolled": true
   },
   "outputs": [
    {
     "name": "stdout",
     "output_type": "stream",
     "text": [
      "PCL\n",
      "PCL\n",
      "Start\n",
      "Starting worker 0\n",
      " Starting worker 1\n",
      "('Reward: 15.666666666666666', ' | Episode', 0, ' of worker_1')\n",
      "('Reward Offline: 20.0', ' | Episode', 0, ' of worker_1')\n",
      "('Reward: 16.666666666666668', ' | Episode', 0, ' of worker_0')\n",
      "('Reward Offline: 19.0', ' | Episode', 0, ' of worker_0')\n",
      "('Reward: 20.0', ' | Episode', 20, ' of worker_1')\n",
      "('Reward Offline: 60.0', ' | Episode', 20, ' of worker_1')\n",
      "('Reward: 24.333333333333332', ' | Episode', 20, ' of worker_0')\n",
      "('Reward Offline: 67.0', ' | Episode', 20, ' of worker_0')\n",
      "('Reward: 17.0', ' | Episode', 40, ' of worker_1')\n",
      "('Reward Offline: 114.0', ' | Episode', 40, ' of worker_1')\n",
      "('Reward: 29.666666666666668', ' | Episode', 40, ' of worker_0')\n",
      "('Reward Offline: 67.0', ' | Episode', 40, ' of worker_0')\n",
      "('Reward: 23.0', ' | Episode', 60, ' of worker_0')\n",
      "('Reward Offline: 67.0', ' | Episode', 60, ' of worker_0')\n",
      "('Reward: 22.333333333333332', ' | Episode', 60, ' of worker_1')\n",
      "('Reward Offline: 114.0', ' | Episode', 60, ' of worker_1')\n",
      "('Reward: 17.333333333333332', ' | Episode', 80, ' of worker_0')\n",
      "('Reward Offline: 65.66666666666667', ' | Episode', 80, ' of worker_0')\n",
      "('Reward: 19.666666666666668', ' | Episode', 80, ' of worker_1')\n",
      "('Reward Offline: 114.0', ' | Episode', 80, ' of worker_1')\n",
      "('Reward: 28.0', ' | Episode', 100, ' of worker_0')\n",
      "('Reward Offline: 67.0', ' | Episode', 100, ' of worker_0')\n",
      "('Reward: 22.666666666666668', ' | Episode', 100, ' of worker_1')\n",
      "('Reward Offline: 114.0', ' | Episode', 100, ' of worker_1')\n",
      "('Reward: 19.0', ' | Episode', 120, ' of worker_0')\n",
      "('Reward Offline: 87.0', ' | Episode', 120, ' of worker_0')\n",
      "('Reward: 21.0', ' | Episode', 120, ' of worker_1')\n",
      "('Reward Offline: 114.0', ' | Episode', 120, ' of worker_1')\n",
      "('Reward: 21.666666666666668', ' | Episode', 140, ' of worker_0')\n",
      "('Reward Offline: 97.0', ' | Episode', 140, ' of worker_0')\n",
      "('Reward: 16.333333333333332', ' | Episode', 140, ' of worker_1')\n",
      "('Reward Offline: 114.0', ' | Episode', 140, ' of worker_1')\n",
      "('Reward: 13.666666666666666', ' | Episode', 160, ' of worker_0')\n",
      "('Reward Offline: 97.0', ' | Episode', 160, ' of worker_0')\n",
      "('Reward: 29.333333333333332', ' | Episode', 160, ' of worker_1')\n",
      "('Reward Offline: 114.0', ' | Episode', 160, ' of worker_1')\n",
      "('Reward: 25.666666666666668', ' | Episode', 180, ' of worker_0')\n",
      "('Reward Offline: 97.0', ' | Episode', 180, ' of worker_0')\n",
      "('Reward: 23.333333333333332', ' | Episode', 180, ' of worker_1')\n",
      "('Reward Offline: 114.0', ' | Episode', 180, ' of worker_1')\n",
      "('Reward: 40.666666666666664', ' | Episode', 200, ' of worker_0')\n",
      "('Reward Offline: 97.0', ' | Episode', 200, ' of worker_0')\n",
      "('Reward: 20.666666666666668', ' | Episode', 200, ' of worker_1')\n",
      "('Reward Offline: 114.0', ' | Episode', 200, ' of worker_1')\n",
      "('Reward: 21.666666666666668', ' | Episode', 220, ' of worker_0')\n",
      "('Reward Offline: 97.0', ' | Episode', 220, ' of worker_0')\n",
      "('Reward: 20.0', ' | Episode', 220, ' of worker_1')\n",
      "('Reward Offline: 114.0', ' | Episode', 220, ' of worker_1')\n",
      "('Reward: 18.333333333333332', ' | Episode', 240, ' of worker_0')\n",
      "('Reward Offline: 97.0', ' | Episode', 240, ' of worker_0')\n",
      "('Reward: 18.333333333333332', ' | Episode', 240, ' of worker_1')\n",
      "('Reward Offline: 120.0', ' | Episode', 240, ' of worker_1')\n",
      "('Reward: 30.0', ' | Episode', 260, ' of worker_0')\n",
      "('Reward Offline: 97.0', ' | Episode', 260, ' of worker_0')\n",
      "('Reward: 26.0', ' | Episode', 260, ' of worker_1')\n",
      "('Reward Offline: 120.0', ' | Episode', 260, ' of worker_1')\n",
      "('Reward: 25.666666666666668', ' | Episode', 280, ' of worker_0')\n",
      "('Reward Offline: 97.0', ' | Episode', 280, ' of worker_0')\n",
      "('Reward: 28.666666666666668', ' | Episode', 280, ' of worker_1')\n",
      "('Reward Offline: 120.0', ' | Episode', 280, ' of worker_1')\n",
      "('Reward: 36.0', ' | Episode', 300, ' of worker_0')\n",
      "('Reward Offline: 103.0', ' | Episode', 300, ' of worker_0')\n",
      "('Reward: 49.0', ' | Episode', 300, ' of worker_1')\n",
      "('Reward Offline: 120.0', ' | Episode', 300, ' of worker_1')\n",
      "('Reward: 28.0', ' | Episode', 320, ' of worker_0')\n",
      "('Reward Offline: 104.0', ' | Episode', 320, ' of worker_0')\n",
      "('Reward: 20.666666666666668', ' | Episode', 320, ' of worker_1')\n",
      "('Reward Offline: 120.0', ' | Episode', 320, ' of worker_1')\n",
      "('Reward: 38.0', ' | Episode', 340, ' of worker_0')\n",
      "('Reward Offline: 137.0', ' | Episode', 340, ' of worker_0')\n",
      "('Reward: 25.666666666666668', ' | Episode', 340, ' of worker_1')\n",
      "('Reward Offline: 120.0', ' | Episode', 340, ' of worker_1')\n",
      "('Reward: 23.333333333333332', ' | Episode', 360, ' of worker_0')\n",
      "('Reward Offline: 137.0', ' | Episode', 360, ' of worker_0')\n",
      "('Reward: 39.333333333333336', ' | Episode', 360, ' of worker_1')\n",
      "('Reward Offline: 120.0', ' | Episode', 360, ' of worker_1')\n",
      "('Reward: 43.666666666666664', ' | Episode', 380, ' of worker_0')\n",
      "('Reward Offline: 137.0', ' | Episode', 380, ' of worker_0')\n",
      "('Reward: 42.333333333333336', ' | Episode', 380, ' of worker_1')\n",
      "('Reward Offline: 120.0', ' | Episode', 380, ' of worker_1')\n",
      "('Reward: 44.0', ' | Episode', 400, ' of worker_0')\n",
      "('Reward Offline: 137.0', ' | Episode', 400, ' of worker_0')\n",
      "('Reward: 22.666666666666668', ' | Episode', 400, ' of worker_1')\n",
      "('Reward Offline: 120.0', ' | Episode', 400, ' of worker_1')\n",
      "('Reward: 17.0', ' | Episode', 420, ' of worker_0')\n",
      "('Reward Offline: 137.0', ' | Episode', 420, ' of worker_0')\n",
      "('Reward: 39.0', ' | Episode', 420, ' of worker_1')\n",
      "('Reward Offline: 120.0', ' | Episode', 420, ' of worker_1')\n",
      "('Reward: 66.66666666666667', ' | Episode', 440, ' of worker_0')\n",
      "('Reward Offline: 151.0', ' | Episode', 440, ' of worker_0')\n",
      "('Reward: 32.0', ' | Episode', 440, ' of worker_1')\n",
      "('Reward Offline: 170.0', ' | Episode', 440, ' of worker_1')\n",
      "('Reward: 53.666666666666664', ' | Episode', 460, ' of worker_0')\n",
      "('Reward Offline: 157.0', ' | Episode', 460, ' of worker_0')\n",
      "('Reward: 43.333333333333336', ' | Episode', 460, ' of worker_1')\n",
      "('Reward Offline: 170.0', ' | Episode', 460, ' of worker_1')\n",
      "('Reward: 35.333333333333336', ' | Episode', 480, ' of worker_0')\n",
      "('Reward Offline: 157.0', ' | Episode', 480, ' of worker_0')\n",
      "('Reward: 30.666666666666668', ' | Episode', 480, ' of worker_1')\n",
      "('Reward Offline: 170.0', ' | Episode', 480, ' of worker_1')\n",
      "('Reward: 35.0', ' | Episode', 500, ' of worker_0')\n",
      "('Reward Offline: 157.0', ' | Episode', 500, ' of worker_0')\n",
      "('Reward: 42.333333333333336', ' | Episode', 500, ' of worker_1')\n",
      "('Reward Offline: 170.0', ' | Episode', 500, ' of worker_1')\n",
      "('Reward: 53.333333333333336', ' | Episode', 520, ' of worker_0')\n",
      "('Reward Offline: 161.0', ' | Episode', 520, ' of worker_0')\n",
      "('Reward: 71.0', ' | Episode', 520, ' of worker_1')\n",
      "('Reward Offline: 170.0', ' | Episode', 520, ' of worker_1')\n",
      "('Reward: 98.66666666666667', ' | Episode', 540, ' of worker_0')\n",
      "('Reward Offline: 161.0', ' | Episode', 540, ' of worker_0')\n",
      "('Reward: 47.666666666666664', ' | Episode', 540, ' of worker_1')\n",
      "('Reward Offline: 170.0', ' | Episode', 540, ' of worker_1')\n",
      "('Reward: 37.333333333333336', ' | Episode', 560, ' of worker_0')\n",
      "('Reward Offline: 161.0', ' | Episode', 560, ' of worker_0')\n",
      "('Reward: 46.666666666666664', ' | Episode', 560, ' of worker_1')\n",
      "('Reward Offline: 170.0', ' | Episode', 560, ' of worker_1')\n",
      "('Reward: 32.333333333333336', ' | Episode', 580, ' of worker_1')\n",
      "('Reward Offline: 170.0', ' | Episode', 580, ' of worker_1')\n",
      "('Reward: 34.666666666666664', ' | Episode', 580, ' of worker_0')\n",
      "('Reward Offline: 164.0', ' | Episode', 580, ' of worker_0')\n",
      "('Reward: 63.666666666666664', ' | Episode', 600, ' of worker_0')\n",
      "('Reward Offline: 165.0', ' | Episode', 600, ' of worker_0')\n",
      "('Reward: 40.0', ' | Episode', 600, ' of worker_1')\n",
      "('Reward Offline: 181.0', ' | Episode', 600, ' of worker_1')\n",
      "('Reward: 89.33333333333333', ' | Episode', 620, ' of worker_1')\n",
      "('Reward Offline: 181.0', ' | Episode', 620, ' of worker_1')\n",
      "('Reward: 78.0', ' | Episode', 620, ' of worker_0')\n",
      "('Reward Offline: 165.0', ' | Episode', 620, ' of worker_0')\n",
      "('Reward: 64.66666666666667', ' | Episode', 640, ' of worker_1')\n",
      "('Reward Offline: 181.0', ' | Episode', 640, ' of worker_1')\n",
      "('Reward: 52.333333333333336', ' | Episode', 640, ' of worker_0')\n",
      "('Reward Offline: 191.0', ' | Episode', 640, ' of worker_0')\n",
      "('Reward: 85.33333333333333', ' | Episode', 660, ' of worker_1')\n",
      "('Reward Offline: 181.0', ' | Episode', 660, ' of worker_1')\n"
     ]
    },
    {
     "name": "stdout",
     "output_type": "stream",
     "text": [
      "('Reward: 69.33333333333333', ' | Episode', 660, ' of worker_0')\n",
      "('Reward Offline: 191.0', ' | Episode', 660, ' of worker_0')\n",
      "('Reward: 27.0', ' | Episode', 680, ' of worker_1')\n",
      "('Reward Offline: 181.0', ' | Episode', 680, ' of worker_1')\n",
      "('Reward: 59.666666666666664', ' | Episode', 680, ' of worker_0')\n",
      "('Reward Offline: 191.0', ' | Episode', 680, ' of worker_0')\n",
      "('Reward: 78.66666666666667', ' | Episode', 700, ' of worker_1')\n",
      "('Reward Offline: 181.0', ' | Episode', 700, ' of worker_1')\n",
      "('Reward: 46.333333333333336', ' | Episode', 700, ' of worker_0')\n",
      "('Reward Offline: 191.0', ' | Episode', 700, ' of worker_0')\n",
      "('Reward: 73.0', ' | Episode', 720, ' of worker_1')\n",
      "('Reward Offline: 181.0', ' | Episode', 720, ' of worker_1')\n",
      "('Reward: 66.66666666666667', ' | Episode', 720, ' of worker_0')\n",
      "('Reward Offline: 200.0', ' | Episode', 720, ' of worker_0')\n",
      "('Reward: 43.0', ' | Episode', 740, ' of worker_1')\n",
      "('Reward Offline: 186.0', ' | Episode', 740, ' of worker_1')\n",
      "('Reward: 112.66666666666667', ' | Episode', 740, ' of worker_0')\n",
      "('Reward Offline: 200.0', ' | Episode', 740, ' of worker_0')\n",
      "('Reward: 65.66666666666667', ' | Episode', 760, ' of worker_1')\n",
      "('Reward Offline: 200.0', ' | Episode', 760, ' of worker_1')\n",
      "('Reward: 71.66666666666667', ' | Episode', 760, ' of worker_0')\n",
      "('Reward Offline: 200.0', ' | Episode', 760, ' of worker_0')\n",
      "('Reward: 63.666666666666664', ' | Episode', 780, ' of worker_1')\n",
      "('Reward Offline: 200.0', ' | Episode', 780, ' of worker_1')\n",
      "('Reward: 44.666666666666664', ' | Episode', 780, ' of worker_0')\n",
      "('Reward Offline: 200.0', ' | Episode', 780, ' of worker_0')\n",
      "('Reward: 89.0', ' | Episode', 800, ' of worker_1')\n",
      "('Reward Offline: 200.0', ' | Episode', 800, ' of worker_1')\n",
      "('Reward: 59.333333333333336', ' | Episode', 800, ' of worker_0')\n",
      "('Reward Offline: 200.0', ' | Episode', 800, ' of worker_0')\n",
      "('Reward: 90.66666666666667', ' | Episode', 820, ' of worker_1')\n",
      "('Reward Offline: 200.0', ' | Episode', 820, ' of worker_1')\n",
      "('Reward: 74.33333333333333', ' | Episode', 820, ' of worker_0')\n",
      "('Reward Offline: 200.0', ' | Episode', 820, ' of worker_0')\n"
     ]
    },
    {
     "name": "stderr",
     "output_type": "stream",
     "text": [
      "Exception in thread Thread-74:\n",
      "Traceback (most recent call last):\n",
      "  File \"/home/adrian/anaconda3/envs/py27/lib/python2.7/threading.py\", line 801, in __bootstrap_inner\n",
      "    self.run()\n",
      "  File \"/home/adrian/anaconda3/envs/py27/lib/python2.7/threading.py\", line 754, in run\n",
      "    self.__target(*self.__args, **self.__kwargs)\n",
      "  File \"<ipython-input-125-a9d472a674b5>\", line 38, in <lambda>\n",
      "    worker_work = lambda: worker.work(GAMMA, sess, coord, merged, train_writer)\n",
      "  File \"worker.py\", line 344, in work\n",
      "    episodes = self.rolloutPCL(sess, s, rnn_state, max_path_length = 1000, episode_count = len(self.env))\n",
      "  File \"worker.py\", line 502, in rolloutPCL\n",
      "    a, v, rnn_state_rolling, agent_info = self.act(s_reshape, rnn_state_rolling, sess)\n",
      "  File \"worker.py\", line 280, in act\n",
      "    self.local_AC.state_in[1]: rnn_state[1]})\n",
      "  File \"/home/adrian/anaconda3/envs/py27/lib/python2.7/site-packages/tensorflow/python/client/session.py\", line 889, in run\n",
      "    run_metadata_ptr)\n",
      "  File \"/home/adrian/anaconda3/envs/py27/lib/python2.7/site-packages/tensorflow/python/client/session.py\", line 1047, in _run\n",
      "    raise RuntimeError('Attempted to use a closed Session.')\n",
      "RuntimeError: Attempted to use a closed Session.\n",
      "\n",
      "Exception in thread Thread-75:\n",
      "Traceback (most recent call last):\n",
      "  File \"/home/adrian/anaconda3/envs/py27/lib/python2.7/threading.py\", line 801, in __bootstrap_inner\n",
      "    self.run()\n",
      "  File \"/home/adrian/anaconda3/envs/py27/lib/python2.7/threading.py\", line 754, in run\n",
      "    self.__target(*self.__args, **self.__kwargs)\n",
      "  File \"<ipython-input-125-a9d472a674b5>\", line 44, in <lambda>\n",
      "    worker_work = lambda: worker.work(GAMMA, sess, coord, merged, train_writer)\n",
      "  File \"worker.py\", line 344, in work\n",
      "    episodes = self.rolloutPCL(sess, s, rnn_state, max_path_length = 1000, episode_count = len(self.env))\n",
      "  File \"worker.py\", line 502, in rolloutPCL\n",
      "    a, v, rnn_state_rolling, agent_info = self.act(s_reshape, rnn_state_rolling, sess)\n",
      "  File \"worker.py\", line 280, in act\n",
      "    self.local_AC.state_in[1]: rnn_state[1]})\n",
      "  File \"/home/adrian/anaconda3/envs/py27/lib/python2.7/site-packages/tensorflow/python/client/session.py\", line 889, in run\n",
      "    run_metadata_ptr)\n",
      "  File \"/home/adrian/anaconda3/envs/py27/lib/python2.7/site-packages/tensorflow/python/client/session.py\", line 1120, in _run\n",
      "    feed_dict_tensor, options, run_metadata)\n",
      "  File \"/home/adrian/anaconda3/envs/py27/lib/python2.7/site-packages/tensorflow/python/client/session.py\", line 1317, in _do_run\n",
      "    options, run_metadata)\n",
      "  File \"/home/adrian/anaconda3/envs/py27/lib/python2.7/site-packages/tensorflow/python/client/session.py\", line 1336, in _do_call\n",
      "    raise type(e)(node_def, op, message)\n",
      "CancelledError: Step was cancelled by an explicit call to `Session::Close()`.\n",
      "\n"
     ]
    },
    {
     "ename": "KeyboardInterrupt",
     "evalue": "",
     "output_type": "error",
     "traceback": [
      "\u001b[0;31m---------------------------------------------------------------------------\u001b[0m",
      "\u001b[0;31mKeyboardInterrupt\u001b[0m                         Traceback (most recent call last)",
      "\u001b[0;32m<ipython-input-125-a9d472a674b5>\u001b[0m in \u001b[0;36m<module>\u001b[0;34m()\u001b[0m\n\u001b[1;32m     47\u001b[0m     \u001b[0mworker_threads\u001b[0m\u001b[0;34m.\u001b[0m\u001b[0mappend\u001b[0m\u001b[0;34m(\u001b[0m\u001b[0mt\u001b[0m\u001b[0;34m)\u001b[0m\u001b[0;34m\u001b[0m\u001b[0m\n\u001b[1;32m     48\u001b[0m     \u001b[0;32mprint\u001b[0m\u001b[0;34m(\u001b[0m\u001b[0;34m\"Start\"\u001b[0m\u001b[0;34m)\u001b[0m\u001b[0;34m\u001b[0m\u001b[0m\n\u001b[0;32m---> 49\u001b[0;31m     \u001b[0mcoord\u001b[0m\u001b[0;34m.\u001b[0m\u001b[0mjoin\u001b[0m\u001b[0;34m(\u001b[0m\u001b[0mworker_threads\u001b[0m\u001b[0;34m)\u001b[0m\u001b[0;34m\u001b[0m\u001b[0m\n\u001b[0m\u001b[1;32m     50\u001b[0m \u001b[0;34m\u001b[0m\u001b[0m\n\u001b[1;32m     51\u001b[0m \u001b[0;31m#tf.app.run()\u001b[0m\u001b[0;34m\u001b[0m\u001b[0;34m\u001b[0m\u001b[0m\n",
      "\u001b[0;32m/home/adrian/anaconda3/envs/py27/lib/python2.7/site-packages/tensorflow/python/training/coordinator.pyc\u001b[0m in \u001b[0;36mjoin\u001b[0;34m(self, threads, stop_grace_period_secs, ignore_live_threads)\u001b[0m\n\u001b[1;32m    361\u001b[0m \u001b[0;34m\u001b[0m\u001b[0m\n\u001b[1;32m    362\u001b[0m     \u001b[0;31m# Wait for all threads to stop or for request_stop() to be called.\u001b[0m\u001b[0;34m\u001b[0m\u001b[0;34m\u001b[0m\u001b[0m\n\u001b[0;32m--> 363\u001b[0;31m     \u001b[0;32mwhile\u001b[0m \u001b[0many\u001b[0m\u001b[0;34m(\u001b[0m\u001b[0mt\u001b[0m\u001b[0;34m.\u001b[0m\u001b[0mis_alive\u001b[0m\u001b[0;34m(\u001b[0m\u001b[0;34m)\u001b[0m \u001b[0;32mfor\u001b[0m \u001b[0mt\u001b[0m \u001b[0;32min\u001b[0m \u001b[0mthreads\u001b[0m\u001b[0;34m)\u001b[0m \u001b[0;32mand\u001b[0m \u001b[0;32mnot\u001b[0m \u001b[0mself\u001b[0m\u001b[0;34m.\u001b[0m\u001b[0mwait_for_stop\u001b[0m\u001b[0;34m(\u001b[0m\u001b[0;36m1.0\u001b[0m\u001b[0;34m)\u001b[0m\u001b[0;34m:\u001b[0m\u001b[0;34m\u001b[0m\u001b[0m\n\u001b[0m\u001b[1;32m    364\u001b[0m       \u001b[0;32mpass\u001b[0m\u001b[0;34m\u001b[0m\u001b[0m\n\u001b[1;32m    365\u001b[0m \u001b[0;34m\u001b[0m\u001b[0m\n",
      "\u001b[0;32m/home/adrian/anaconda3/envs/py27/lib/python2.7/site-packages/tensorflow/python/training/coordinator.pyc\u001b[0m in \u001b[0;36mwait_for_stop\u001b[0;34m(self, timeout)\u001b[0m\n\u001b[1;32m    309\u001b[0m       \u001b[0mTrue\u001b[0m \u001b[0;32mif\u001b[0m \u001b[0mthe\u001b[0m \u001b[0mCoordinator\u001b[0m \u001b[0;32mis\u001b[0m \u001b[0mtold\u001b[0m \u001b[0mstop\u001b[0m\u001b[0;34m,\u001b[0m \u001b[0mFalse\u001b[0m \u001b[0;32mif\u001b[0m \u001b[0mthe\u001b[0m \u001b[0mtimeout\u001b[0m \u001b[0mexpired\u001b[0m\u001b[0;34m.\u001b[0m\u001b[0;34m\u001b[0m\u001b[0m\n\u001b[1;32m    310\u001b[0m     \"\"\"\n\u001b[0;32m--> 311\u001b[0;31m     \u001b[0;32mreturn\u001b[0m \u001b[0mself\u001b[0m\u001b[0;34m.\u001b[0m\u001b[0m_stop_event\u001b[0m\u001b[0;34m.\u001b[0m\u001b[0mwait\u001b[0m\u001b[0;34m(\u001b[0m\u001b[0mtimeout\u001b[0m\u001b[0;34m)\u001b[0m\u001b[0;34m\u001b[0m\u001b[0m\n\u001b[0m\u001b[1;32m    312\u001b[0m \u001b[0;34m\u001b[0m\u001b[0m\n\u001b[1;32m    313\u001b[0m   \u001b[0;32mdef\u001b[0m \u001b[0mregister_thread\u001b[0m\u001b[0;34m(\u001b[0m\u001b[0mself\u001b[0m\u001b[0;34m,\u001b[0m \u001b[0mthread\u001b[0m\u001b[0;34m)\u001b[0m\u001b[0;34m:\u001b[0m\u001b[0;34m\u001b[0m\u001b[0m\n",
      "\u001b[0;32m/home/adrian/anaconda3/envs/py27/lib/python2.7/threading.pyc\u001b[0m in \u001b[0;36mwait\u001b[0;34m(self, timeout)\u001b[0m\n\u001b[1;32m    612\u001b[0m         \u001b[0;32mwith\u001b[0m \u001b[0mself\u001b[0m\u001b[0;34m.\u001b[0m\u001b[0m__cond\u001b[0m\u001b[0;34m:\u001b[0m\u001b[0;34m\u001b[0m\u001b[0m\n\u001b[1;32m    613\u001b[0m             \u001b[0;32mif\u001b[0m \u001b[0;32mnot\u001b[0m \u001b[0mself\u001b[0m\u001b[0;34m.\u001b[0m\u001b[0m__flag\u001b[0m\u001b[0;34m:\u001b[0m\u001b[0;34m\u001b[0m\u001b[0m\n\u001b[0;32m--> 614\u001b[0;31m                 \u001b[0mself\u001b[0m\u001b[0;34m.\u001b[0m\u001b[0m__cond\u001b[0m\u001b[0;34m.\u001b[0m\u001b[0mwait\u001b[0m\u001b[0;34m(\u001b[0m\u001b[0mtimeout\u001b[0m\u001b[0;34m)\u001b[0m\u001b[0;34m\u001b[0m\u001b[0m\n\u001b[0m\u001b[1;32m    615\u001b[0m             \u001b[0;32mreturn\u001b[0m \u001b[0mself\u001b[0m\u001b[0;34m.\u001b[0m\u001b[0m__flag\u001b[0m\u001b[0;34m\u001b[0m\u001b[0m\n\u001b[1;32m    616\u001b[0m \u001b[0;34m\u001b[0m\u001b[0m\n",
      "\u001b[0;32m/home/adrian/anaconda3/envs/py27/lib/python2.7/threading.pyc\u001b[0m in \u001b[0;36mwait\u001b[0;34m(self, timeout)\u001b[0m\n\u001b[1;32m    357\u001b[0m                         \u001b[0;32mbreak\u001b[0m\u001b[0;34m\u001b[0m\u001b[0m\n\u001b[1;32m    358\u001b[0m                     \u001b[0mdelay\u001b[0m \u001b[0;34m=\u001b[0m \u001b[0mmin\u001b[0m\u001b[0;34m(\u001b[0m\u001b[0mdelay\u001b[0m \u001b[0;34m*\u001b[0m \u001b[0;36m2\u001b[0m\u001b[0;34m,\u001b[0m \u001b[0mremaining\u001b[0m\u001b[0;34m,\u001b[0m \u001b[0;36m.05\u001b[0m\u001b[0;34m)\u001b[0m\u001b[0;34m\u001b[0m\u001b[0m\n\u001b[0;32m--> 359\u001b[0;31m                     \u001b[0m_sleep\u001b[0m\u001b[0;34m(\u001b[0m\u001b[0mdelay\u001b[0m\u001b[0;34m)\u001b[0m\u001b[0;34m\u001b[0m\u001b[0m\n\u001b[0m\u001b[1;32m    360\u001b[0m                 \u001b[0;32mif\u001b[0m \u001b[0;32mnot\u001b[0m \u001b[0mgotit\u001b[0m\u001b[0;34m:\u001b[0m\u001b[0;34m\u001b[0m\u001b[0m\n\u001b[1;32m    361\u001b[0m                     \u001b[0;32mif\u001b[0m \u001b[0m__debug__\u001b[0m\u001b[0;34m:\u001b[0m\u001b[0;34m\u001b[0m\u001b[0m\n",
      "\u001b[0;31mKeyboardInterrupt\u001b[0m: "
     ]
    }
   ],
   "source": [
    "#MAIN\n",
    "#def main(_):\n",
    "global master_network\n",
    "global global_episodes\n",
    "\n",
    "tf.reset_default_graph()\n",
    "\n",
    "with tf.device('/job:local/task:0/device:CPU:0'): #Parameter server adress\n",
    "    RANDOM_SEED = 1234\n",
    "    np.random.seed(RANDOM_SEED)\n",
    "    tf.set_random_seed(RANDOM_SEED)\n",
    "\n",
    "    global_episodes = tf.Variable(0, dtype=tf.int32, name='global_episodes', trainable=False)\n",
    "    trainer = tf.train.AdamOptimizer(learning_rate=LEARNING_RATE)\n",
    "    master_network = AC_Network(STATE_DIM, ACTION_DIM, 'global', None, network_config, tau = TAU, rollout = ROLLOUT, method = METHOD)  # Generate global network\n",
    "    num_workers = 2  # Number of workers\n",
    "\n",
    "    workers = []\n",
    "    # Create worker classes\n",
    "    with tf.device('/job:local/task:1/device:CPU:0'): #Worker server adresses\n",
    "        workers.append(Worker(0, STATE_DIM, ACTION_DIM, network_config, trainer, global_episodes,\n",
    "                              ENV_NAME, NUM_ENVS, tau = TAU, rollout = ROLLOUT, method = METHOD))\n",
    "    with tf.device('/job:local/task:1/device:CPU:0'):\n",
    "        workers.append(Worker(1, STATE_DIM, ACTION_DIM, network_config,trainer,global_episodes,\n",
    "                              ENV_NAME, NUM_ENVS, tau = TAU, rollout = ROLLOUT, method = METHOD))\n",
    "\n",
    "with tf.Session(\"grpc://localhost:2222\") as sess:\n",
    "    coord = tf.train.Coordinator()\n",
    "    merged = tf.summary.merge_all()    \n",
    "    train_writer = tf.summary.FileWriter(LOG_DIR, sess.graph)\n",
    "    sess.run(tf.global_variables_initializer())\n",
    "\n",
    "    # This is where the asynchronous magic happens.\n",
    "    # Start the \"work\" process for each worker in a separate thread.\n",
    "    worker_threads = []\n",
    "    worker=workers[0]\n",
    "    with tf.device('/job:local/task:1/device:CPU:0'):\n",
    "        worker_work = lambda: worker.work(GAMMA, sess, coord, merged, train_writer)\n",
    "        t = threading.Thread(target=(worker_work))\n",
    "        t.start()\n",
    "    worker_threads.append(t)\n",
    "    worker=workers[1]\n",
    "    with tf.device('/job:local/task:1/device:CPU:0'):\n",
    "        worker_work = lambda: worker.work(GAMMA, sess, coord, merged, train_writer)\n",
    "        t = threading.Thread(target=(worker_work))\n",
    "        t.start()\n",
    "    worker_threads.append(t)\n",
    "    print(\"Start\")\n",
    "    coord.join(worker_threads)\n",
    "\n",
    "#tf.app.run()\n"
   ]
  },
  {
   "cell_type": "code",
   "execution_count": 77,
   "metadata": {},
   "outputs": [
    {
     "data": {
      "text/plain": [
       "8.0"
      ]
     },
     "execution_count": 77,
     "metadata": {},
     "output_type": "execute_result"
    }
   ],
   "source": [
    "np.mean(np.sum(worker.episode_reward, axis = 0))"
   ]
  },
  {
   "cell_type": "markdown",
   "metadata": {},
   "source": [
    "Get rewards collected by the different agents"
   ]
  },
  {
   "cell_type": "code",
   "execution_count": 126,
   "metadata": {},
   "outputs": [
    {
     "data": {
      "image/png": "[encoded data removed]",
      "text/plain": [
       "<matplotlib.figure.Figure at 0x7fa06f4c7b90>"
      ]
     },
     "metadata": {},
     "output_type": "display_data"
    },
    {
     "data": {
      "image/png": "[encoded data removed]",
      "text/plain": [
       "<matplotlib.figure.Figure at 0x7fa05dc403d0>"
      ]
     },
     "metadata": {},
     "output_type": "display_data"
    }
   ],
   "source": [
    "plotListNoNoisyNet = []\n",
    "for i in range(len(workers)):\n",
    "    workerTemp = workers[i]\n",
    "    rewards = workerTemp.getRewards()\n",
    "    plt.plot(np.arange(len(rewards)), rewards)\n",
    "    plt.xlabel('step')\n",
    "    plt.ylabel('Total moving reward')\n",
    "    plt.title(\"Worker_%s\" % i)\n",
    "    plotListNoNoisyNet.append(plt)\n",
    "    plt.show()"
   ]
  },
  {
   "cell_type": "code",
   "execution_count": 83,
   "metadata": {},
   "outputs": [
    {
     "data": {
      "text/plain": [
       "124.5"
      ]
     },
     "execution_count": 83,
     "metadata": {},
     "output_type": "execute_result"
    }
   ],
   "source": [
    "np.mean(rewards[-20:])"
   ]
  },
  {
   "cell_type": "code",
   "execution_count": 15,
   "metadata": {},
   "outputs": [
    {
     "name": "stdout",
     "output_type": "stream",
     "text": [
      "200.0\n"
     ]
    },
    {
     "data": {
      "image/png": "[encoded data removed]",
      "text/plain": [
       "<matplotlib.figure.Figure at 0x7f7000390d50>"
      ]
     },
     "metadata": {},
     "output_type": "display_data"
    },
    {
     "name": "stdout",
     "output_type": "stream",
     "text": [
      "200.0\n"
     ]
    },
    {
     "data": {
      "image/png": "[encoded data removed]",
      "text/plain": [
       "<matplotlib.figure.Figure at 0x7f701a7d4e50>"
      ]
     },
     "metadata": {},
     "output_type": "display_data"
    }
   ],
   "source": [
    "plotList = []\n",
    "for i in range(len(workers)):\n",
    "    workerTemp = workers[i]\n",
    "    rewards = workerTemp.getRewards()\n",
    "    print(np.max(rewards))\n",
    "    plt.plot(np.arange(len(rewards)), rewards)\n",
    "    plt.xlabel('step')\n",
    "    plt.ylabel('Total moving reward')\n",
    "    plt.title(\"Worker_%s\" % i)\n",
    "    plotList.append(plt)\n",
    "    plt.show()"
   ]
  },
  {
   "cell_type": "code",
   "execution_count": 75,
   "metadata": {
    "collapsed": true
   },
   "outputs": [],
   "source": [
    "actions = np.random.binomial(1, 0.5, size = (5,24,2)) \n",
    "discount = np.array([GAMMA**i for i in range(10)], dtype=np.float32)\n",
    "rewards = np.random.binomial(5, 0.5, size = (5,24))\n",
    "\n",
    "init_c = np.zeros(shape = (5, 16))\n",
    "init_h = np.zeros(shape = (5, 16))\n",
    "process_ = np.random.normal(size = (5,24,4))\n",
    "\n",
    "feed_dict_ = {\n",
    "    ac_network_test_.inputs:process_,\n",
    "    ac_network_test_.state_in[0]:init_c,\n",
    "    ac_network_test_.state_in[1]:init_h,\n",
    "    ac_network_test_.actions:actions\n",
    "    #ac_network_test_.rewards:rewards,\n",
    "    #ac_network_test_.discount:discount,\n",
    "    #ac_network_test_.rollout:10\n",
    "}\n",
    "\n",
    "pol_, val_ = sess.run([ac_network_test_.policy, ac_network_test_.value], feed_dict = feed_dict_)"
   ]
  },
  {
   "cell_type": "code",
   "execution_count": 76,
   "metadata": {},
   "outputs": [
    {
     "data": {
      "text/plain": [
       "(5, 24, 2)"
      ]
     },
     "execution_count": 76,
     "metadata": {},
     "output_type": "execute_result"
    }
   ],
   "source": [
    "np.shape(pol_)"
   ]
  },
  {
   "cell_type": "markdown",
   "metadata": {},
   "source": [
    "Develop batched loss function"
   ]
  },
  {
   "cell_type": "code",
   "execution_count": 70,
   "metadata": {
    "collapsed": true
   },
   "outputs": [],
   "source": [
    "tf.reset_default_graph()\n",
    "sess = tf.Session()\n",
    "\n",
    "vals = tf.placeholder(shape=[None, None], dtype=tf.float32)\n",
    "actions_ = tf.placeholder(shape=[None, None, 2], dtype=tf.float32)\n",
    "policy_ = tf.placeholder(shape=[None, None, 2], dtype=tf.float32)\n",
    "rewards_ = tf.placeholder(shape=[None, None], dtype=tf.float32)\n",
    "\n",
    "length_ep = tf.placeholder(shape=[None], dtype=tf.int32)\n",
    "rollout_ = tf.placeholder(tf.int32, shape = ())\n",
    "discount_ = tf.placeholder(shape=[None], dtype=tf.float32)\n",
    "\n",
    "\n",
    "batch_size = tf.shape(vals)[0]\n",
    "length_ep_ = tf.shape(vals)[1]\n",
    "\n",
    "\n",
    "init_array = tf.TensorArray(tf.float32, size=batch_size)\n",
    "init_array_means = tf.TensorArray(tf.float32, size=batch_size)\n",
    "# value_loss_array holds for every episode -value_first + gamma ** rollout * value_last\n",
    "def compute_value_loss(i, ta, ta_mean):\n",
    "    value_loss = -1 * vals[i][:(length_ep[i] - 10 + 1)] + discount_[rollout_ - 1] * vals[i][-(length_ep[i] + (length_ep_-length_ep[i]) - rollout_ + 1):length_ep[i]]\n",
    "    value_loss_mean = tf.reduce_mean(value_loss)\n",
    "    return i + 1, ta.write(i, value_loss), ta_mean.write(i, value_loss_mean)\n",
    "\n",
    "_, value_loss_array, value_loss_mean_array = tf.while_loop(\n",
    "    lambda i, ta, ta_mean: i < batch_size, compute_value_loss, [0, init_array, init_array_means])\n",
    "\n",
    "# Compute now \n",
    "\n",
    "policy_loss_array_init = tf.TensorArray(tf.float32, size=batch_size)\n",
    "    policy_loss_mean_array_init = tf.TensorArray(tf.float32, size=batch_size)\n",
    "def compute_policy_loss(i, ta, ta_mean):\n",
    "    # Compute log probs\n",
    "    log_probs = tf.log(tf.reduce_sum(actions_[i][:length_ep[i]] * policy_[i][:length_ep[i]], axis=1) + 0.0001)\n",
    "    # Compute rolling log_probs\n",
    "    rolling_log_probs = tf.map_fn(lambda j: log_probs[j:(j + rollout_ - 1)],\n",
    "                              tf.range(length_ep[i] - rollout_ + 1), dtype=tf.float32)\n",
    "    # Compute rolling rewards\n",
    "    rolling_rewards = tf.map_fn(lambda j: rewards_[i][j:(j + rollout_ - 1)],\n",
    "                              tf.range(length_ep[i] - rollout_ + 1), dtype=tf.float32)\n",
    "    \n",
    "    # Compute policy loss\n",
    "    policy_loss = tf.reduce_sum((rolling_rewards - 0.2 *\n",
    "                                 rolling_log_probs) * discount_[:(rollout_ -1)], axis=1)\n",
    "    \n",
    "    policy_loss_mean = tf.reduce_mean(policy_loss)\n",
    "    \n",
    "    return i + 1, ta. write(i, policy_loss), ta_mean.write(i, policy_loss_mean)\n",
    "\n",
    "# Loop over all episodes\n",
    "_, policy_loss_array, policy_loss_array_mean = tf.while_loop(\n",
    "    lambda i, ta, ta_mean: i < batch_size, compute_policy_loss, [0, policy_loss_array_init, policy_loss_mean_array_init])\n",
    "    \n",
    "\n",
    "tf_loss_map_ = tf.map_fn(lambda i: tf.reduce_mean(0.5 * tf.square(value_loss_array.gather([i]) + policy_loss_array.gather([i]))),\n",
    "                       tf.range(batch_size), dtype = tf.float32)\n",
    "\n",
    "# Compute final weighted loss of all episodes\n",
    "tf_loss_final_ = tf.reduce_sum(tf_loss_map_ * tf.cast(length_ep, dtype=tf.float32))/tf.cast(tf.reduce_sum(length_ep), dtype=tf.float32)\n",
    "\n",
    "tf_loss_mean = tf.reduce_sum(tf.map_fn(lambda i: value_loss_mean_array.gather([i]),\n",
    "                                       tf.range(batch_size),\n",
    "                                       dtype = tf.float32) * tf.cast(length_ep, dtype=tf.float32))/tf.cast(tf.reduce_sum(length_ep), dtype=tf.float32)\n",
    "\n",
    "\n",
    "#tf_loss_value_1 = value_loss_mean_array.gather([0])\n",
    "#tf_loss_value_2 = value_loss_mean_array.gather([1])\n",
    "\n",
    "tf_loss_policy_1 = policy_loss_array_mean.gather([0])\n",
    "tf_loss_policy_2 = policy_loss_array_mean.gather([1])"
   ]
  },
  {
   "cell_type": "code",
   "execution_count": 71,
   "metadata": {
    "collapsed": true
   },
   "outputs": [],
   "source": [
    "feed_dict_ = {\n",
    "    vals:np.reshape(val_, newshape=(3,24)),\n",
    "    length_ep:np.array([24,20,18]),\n",
    "    rollout_:10,\n",
    "    discount_:discount,\n",
    "    actions_:actions,\n",
    "    policy_:pol_,\n",
    "    rewards_: rewards\n",
    "}\n",
    "\n",
    "a,b = sess.run([tf_loss_mean, tf_loss_policy_1], feed_dict_)"
   ]
  },
  {
   "cell_type": "code",
   "execution_count": 68,
   "metadata": {
    "collapsed": true
   },
   "outputs": [],
   "source": [
    "def rolloutPCL(initial_state, rnn_state, env, max_path_length=None, episode_count = 1):\n",
    "\n",
    "    # Perform rollout of given environment\n",
    "    if max_path_length is None:\n",
    "        max_path_length = env.spec.tags.get(\n",
    "            'wrapper_config.TimeLimit.max_episode_steps')\n",
    "\n",
    "    # Define list so save episodes\n",
    "    episodes = []\n",
    "\n",
    "    for i in range(episode_count):\n",
    "        rnn_state_rolling = rnn_state\n",
    "        if i > 0:\n",
    "            # First initial state is supplied\n",
    "            initial_state = env.reset()\n",
    "        states = []\n",
    "        actions = []\n",
    "        rewards = []\n",
    "        agent_infos = []\n",
    "        env_infos = []\n",
    "        values = []\n",
    "        s = np.reshape(initial_state, newshape=[1,len(initial_state)])\n",
    "        path_length = 0\n",
    "\n",
    "        # Sample one episode\n",
    "        while path_length < max_path_length:\n",
    "            s_reshape = np.reshape(s, newshape=[1,STATE_DIM])\n",
    "            a, v, rnn_state_rolling, agent_info = act(s_reshape, rnn_state_rolling, sess)\n",
    "            next_s, r, d, env_info = env.step(np.argmax(a))\n",
    "            states.append(np.squeeze(s_reshape))\n",
    "            rewards.append(r)\n",
    "            values.append(np.squeeze(v))\n",
    "            actions.append(np.argmax(a))\n",
    "            agent_infos.append(agent_info)\n",
    "            env_infos.append(env_info)\n",
    "            path_length += 1\n",
    "            if d:\n",
    "                break\n",
    "            s = next_s\n",
    "        # Append sampled episode\n",
    "        action_array = np.eye(ACTION_DIM, dtype=np.int32)[np.array(actions)]\n",
    "        episodes.append(dict(\n",
    "                                states=np.expand_dims(np.array(states), 0),\n",
    "                                actions=np.expand_dims(np.array(action_array),0),\n",
    "                                rewards=np.expand_dims(np.array(rewards),0),\n",
    "                                values = np.expand_dims(np.reshape(np.array(values), newshape= (len(np.array(values)))), 0),\n",
    "                                agent_infos=np.expand_dims(np.array(agent_infos),0),\n",
    "                                env_infos=np.expand_dims(np.array(env_infos),0)\n",
    "                            ))\n",
    "    return episodes\n",
    "\n",
    "def weighted_pick(weights,n_picks):\n",
    "    t = np.cumsum(weights)\n",
    "    s = np.sum(weights)\n",
    "    return np.searchsorted(t,np.random.rand(n_picks)*s)\n",
    "\n",
    "def act(state, rnn_state, sess):\n",
    "\n",
    "    action_dist, value, rnn_state = sess.run([ac_network_test_.policy, ac_network_test_.value, ac_network_test_.state_out],\n",
    "                                    feed_dict={ac_network_test_.inputs: [state],\n",
    "                                               ac_network_test_.state_in[0]: rnn_state[0],\n",
    "                                               ac_network_test_.state_in[1]: rnn_state[1]})\n",
    "\n",
    "    # Chose action with largest probability\n",
    "    a0 = weighted_pick(action_dist[0], 1)  # Use stochastic distribution sampling\n",
    "    action_one_hot = np.zeros(ACTION_DIM)\n",
    "    action_one_hot[a0] = 1\n",
    "\n",
    "    return action_one_hot, value, rnn_state, action_dist\n"
   ]
  },
  {
   "cell_type": "code",
   "execution_count": null,
   "metadata": {
    "collapsed": true
   },
   "outputs": [],
   "source": [
    "rolloutPCL()"
   ]
  },
  {
   "cell_type": "code",
   "execution_count": 77,
   "metadata": {},
   "outputs": [
    {
     "ename": "ValueError",
     "evalue": "Cannot feed value of shape (24, 1) for Tensor u'worker_0/Placeholder_1:0', which has shape '(?, 16)'",
     "output_type": "error",
     "traceback": [
      "\u001b[0;31m------------------------------------------------------------------------\u001b[0m",
      "\u001b[0;31mValueError\u001b[0m                             Traceback (most recent call last)",
      "\u001b[0;32m<ipython-input-77-fd379290bf4c>\u001b[0m in \u001b[0;36m<module>\u001b[0;34m()\u001b[0m\n\u001b[1;32m      2\u001b[0m \u001b[0minitial_state\u001b[0m \u001b[0;34m=\u001b[0m \u001b[0menv_\u001b[0m\u001b[0;34m.\u001b[0m\u001b[0mreset\u001b[0m\u001b[0;34m(\u001b[0m\u001b[0;34m)\u001b[0m\u001b[0;34m\u001b[0m\u001b[0m\n\u001b[1;32m      3\u001b[0m \u001b[0ms\u001b[0m \u001b[0;34m=\u001b[0m \u001b[0mnp\u001b[0m\u001b[0;34m.\u001b[0m\u001b[0mreshape\u001b[0m\u001b[0;34m(\u001b[0m\u001b[0minitial_state\u001b[0m\u001b[0;34m,\u001b[0m \u001b[0mnewshape\u001b[0m\u001b[0;34m=\u001b[0m\u001b[0;34m[\u001b[0m\u001b[0;36m1\u001b[0m\u001b[0;34m,\u001b[0m\u001b[0mlen\u001b[0m\u001b[0;34m(\u001b[0m\u001b[0minitial_state\u001b[0m\u001b[0;34m)\u001b[0m\u001b[0;34m]\u001b[0m\u001b[0;34m)\u001b[0m\u001b[0;34m\u001b[0m\u001b[0m\n\u001b[0;32m----> 4\u001b[0;31m \u001b[0meps\u001b[0m \u001b[0;34m=\u001b[0m \u001b[0mrolloutPCL\u001b[0m\u001b[0;34m(\u001b[0m\u001b[0minitial_state\u001b[0m\u001b[0;34m,\u001b[0m \u001b[0mval_\u001b[0m\u001b[0;34m,\u001b[0m \u001b[0menv_\u001b[0m\u001b[0;34m,\u001b[0m \u001b[0mepisode_count\u001b[0m\u001b[0;34m=\u001b[0m\u001b[0;36m5\u001b[0m\u001b[0;34m)\u001b[0m\u001b[0;34m\u001b[0m\u001b[0m\n\u001b[0m",
      "\u001b[0;32m<ipython-input-68-43e88fffdd98>\u001b[0m in \u001b[0;36mrolloutPCL\u001b[0;34m(initial_state, rnn_state, env, max_path_length, episode_count)\u001b[0m\n\u001b[1;32m     26\u001b[0m         \u001b[0;32mwhile\u001b[0m \u001b[0mpath_length\u001b[0m \u001b[0;34m<\u001b[0m \u001b[0mmax_path_length\u001b[0m\u001b[0;34m:\u001b[0m\u001b[0;34m\u001b[0m\u001b[0m\n\u001b[1;32m     27\u001b[0m             \u001b[0ms_reshape\u001b[0m \u001b[0;34m=\u001b[0m \u001b[0mnp\u001b[0m\u001b[0;34m.\u001b[0m\u001b[0mreshape\u001b[0m\u001b[0;34m(\u001b[0m\u001b[0ms\u001b[0m\u001b[0;34m,\u001b[0m \u001b[0mnewshape\u001b[0m\u001b[0;34m=\u001b[0m\u001b[0;34m[\u001b[0m\u001b[0;36m1\u001b[0m\u001b[0;34m,\u001b[0m\u001b[0mSTATE_DIM\u001b[0m\u001b[0;34m]\u001b[0m\u001b[0;34m)\u001b[0m\u001b[0;34m\u001b[0m\u001b[0m\n\u001b[0;32m---> 28\u001b[0;31m             \u001b[0ma\u001b[0m\u001b[0;34m,\u001b[0m \u001b[0mv\u001b[0m\u001b[0;34m,\u001b[0m \u001b[0mrnn_state_rolling\u001b[0m\u001b[0;34m,\u001b[0m \u001b[0magent_info\u001b[0m \u001b[0;34m=\u001b[0m \u001b[0mact\u001b[0m\u001b[0;34m(\u001b[0m\u001b[0ms_reshape\u001b[0m\u001b[0;34m,\u001b[0m \u001b[0mrnn_state_rolling\u001b[0m\u001b[0;34m,\u001b[0m \u001b[0msess\u001b[0m\u001b[0;34m)\u001b[0m\u001b[0;34m\u001b[0m\u001b[0m\n\u001b[0m\u001b[1;32m     29\u001b[0m             \u001b[0mnext_s\u001b[0m\u001b[0;34m,\u001b[0m \u001b[0mr\u001b[0m\u001b[0;34m,\u001b[0m \u001b[0md\u001b[0m\u001b[0;34m,\u001b[0m \u001b[0menv_info\u001b[0m \u001b[0;34m=\u001b[0m \u001b[0menv\u001b[0m\u001b[0;34m.\u001b[0m\u001b[0mstep\u001b[0m\u001b[0;34m(\u001b[0m\u001b[0mnp\u001b[0m\u001b[0;34m.\u001b[0m\u001b[0margmax\u001b[0m\u001b[0;34m(\u001b[0m\u001b[0ma\u001b[0m\u001b[0;34m)\u001b[0m\u001b[0;34m)\u001b[0m\u001b[0;34m\u001b[0m\u001b[0m\n\u001b[1;32m     30\u001b[0m             \u001b[0mstates\u001b[0m\u001b[0;34m.\u001b[0m\u001b[0mappend\u001b[0m\u001b[0;34m(\u001b[0m\u001b[0mnp\u001b[0m\u001b[0;34m.\u001b[0m\u001b[0msqueeze\u001b[0m\u001b[0;34m(\u001b[0m\u001b[0ms_reshape\u001b[0m\u001b[0;34m)\u001b[0m\u001b[0;34m)\u001b[0m\u001b[0;34m\u001b[0m\u001b[0m\n",
      "\u001b[0;32m<ipython-input-68-43e88fffdd98>\u001b[0m in \u001b[0;36mact\u001b[0;34m(state, rnn_state, sess)\u001b[0m\n\u001b[1;32m     60\u001b[0m                                     feed_dict={ac_network_test_.inputs: [state],\n\u001b[1;32m     61\u001b[0m                                                \u001b[0mac_network_test_\u001b[0m\u001b[0;34m.\u001b[0m\u001b[0mstate_in\u001b[0m\u001b[0;34m[\u001b[0m\u001b[0;36m0\u001b[0m\u001b[0;34m]\u001b[0m\u001b[0;34m:\u001b[0m \u001b[0mrnn_state\u001b[0m\u001b[0;34m[\u001b[0m\u001b[0;36m0\u001b[0m\u001b[0;34m]\u001b[0m\u001b[0;34m,\u001b[0m\u001b[0;34m\u001b[0m\u001b[0m\n\u001b[0;32m---> 62\u001b[0;31m                                                ac_network_test_.state_in[1]: rnn_state[1]})\n\u001b[0m\u001b[1;32m     63\u001b[0m \u001b[0;34m\u001b[0m\u001b[0m\n\u001b[1;32m     64\u001b[0m     \u001b[0;31m# Chose action with largest probability\u001b[0m\u001b[0;34m\u001b[0m\u001b[0;34m\u001b[0m\u001b[0m\n",
      "\u001b[0;32m/home/adrian/anaconda3/envs/py27/lib/python2.7/site-packages/tensorflow/python/client/session.pyc\u001b[0m in \u001b[0;36mrun\u001b[0;34m(self, fetches, feed_dict, options, run_metadata)\u001b[0m\n\u001b[1;32m    887\u001b[0m     \u001b[0;32mtry\u001b[0m\u001b[0;34m:\u001b[0m\u001b[0;34m\u001b[0m\u001b[0m\n\u001b[1;32m    888\u001b[0m       result = self._run(None, fetches, feed_dict, options_ptr,\n\u001b[0;32m--> 889\u001b[0;31m                          run_metadata_ptr)\n\u001b[0m\u001b[1;32m    890\u001b[0m       \u001b[0;32mif\u001b[0m \u001b[0mrun_metadata\u001b[0m\u001b[0;34m:\u001b[0m\u001b[0;34m\u001b[0m\u001b[0m\n\u001b[1;32m    891\u001b[0m         \u001b[0mproto_data\u001b[0m \u001b[0;34m=\u001b[0m \u001b[0mtf_session\u001b[0m\u001b[0;34m.\u001b[0m\u001b[0mTF_GetBuffer\u001b[0m\u001b[0;34m(\u001b[0m\u001b[0mrun_metadata_ptr\u001b[0m\u001b[0;34m)\u001b[0m\u001b[0;34m\u001b[0m\u001b[0m\n",
      "\u001b[0;32m/home/adrian/anaconda3/envs/py27/lib/python2.7/site-packages/tensorflow/python/client/session.pyc\u001b[0m in \u001b[0;36m_run\u001b[0;34m(self, handle, fetches, feed_dict, options, run_metadata)\u001b[0m\n\u001b[1;32m   1094\u001b[0m                 \u001b[0;34m'Cannot feed value of shape %r for Tensor %r, '\u001b[0m\u001b[0;34m\u001b[0m\u001b[0m\n\u001b[1;32m   1095\u001b[0m                 \u001b[0;34m'which has shape %r'\u001b[0m\u001b[0;34m\u001b[0m\u001b[0m\n\u001b[0;32m-> 1096\u001b[0;31m                 % (np_val.shape, subfeed_t.name, str(subfeed_t.get_shape())))\n\u001b[0m\u001b[1;32m   1097\u001b[0m           \u001b[0;32mif\u001b[0m \u001b[0;32mnot\u001b[0m \u001b[0mself\u001b[0m\u001b[0;34m.\u001b[0m\u001b[0mgraph\u001b[0m\u001b[0;34m.\u001b[0m\u001b[0mis_feedable\u001b[0m\u001b[0;34m(\u001b[0m\u001b[0msubfeed_t\u001b[0m\u001b[0;34m)\u001b[0m\u001b[0;34m:\u001b[0m\u001b[0;34m\u001b[0m\u001b[0m\n\u001b[1;32m   1098\u001b[0m             \u001b[0;32mraise\u001b[0m \u001b[0mValueError\u001b[0m\u001b[0;34m(\u001b[0m\u001b[0;34m'Tensor %s may not be fed.'\u001b[0m \u001b[0;34m%\u001b[0m \u001b[0msubfeed_t\u001b[0m\u001b[0;34m)\u001b[0m\u001b[0;34m\u001b[0m\u001b[0m\n",
      "\u001b[0;31mValueError\u001b[0m: Cannot feed value of shape (24, 1) for Tensor u'worker_0/Placeholder_1:0', which has shape '(?, 16)'"
     ]
    }
   ],
   "source": [
    "env_ = gym.make(ENV_NAME)\n",
    "initial_state = env_.reset()\n",
    "s = np.reshape(initial_state, newshape=[1,len(initial_state)])\n",
    "eps = rolloutPCL(initial_state, val_, env_, episode_count=5)"
   ]
  },
  {
   "cell_type": "code",
   "execution_count": 31,
   "metadata": {},
   "outputs": [
    {
     "name": "stdout",
     "output_type": "stream",
     "text": [
      "(1, 10, 2)\n",
      "(1, 10, 4)\n",
      "(1, 10)\n",
      "(1, 10)\n",
      "(1, 10, 1, 1, 2)\n",
      "(1, 10)\n"
     ]
    }
   ],
   "source": [
    "print(np.shape(eps[0][\"actions\"]))\n",
    "print(np.shape(eps[0][\"states\"]))\n",
    "print(np.shape(eps[0][\"rewards\"]))\n",
    "print(np.shape(eps[0][\"values\"]))\n",
    "print(np.shape(eps[0][\"agent_infos\"]))\n",
    "print(np.shape(eps[0][\"env_infos\"]))"
   ]
  },
  {
   "cell_type": "code",
   "execution_count": 20,
   "metadata": {
    "collapsed": true
   },
   "outputs": [],
   "source": [
    "replay_buffer_PCL = ReplayBuffer()\n",
    "replay_buffer_PCL.add(eps)"
   ]
  },
  {
   "cell_type": "code",
   "execution_count": 47,
   "metadata": {
    "collapsed": true
   },
   "outputs": [],
   "source": [
    "sampled_eps = replay_buffer_PCL.sample(3)\n",
    "max_len = max([len(ep[\"actions\"][0]) for ep in sampled_eps])\n",
    "\n",
    "states_start = np.pad(sampled_eps[0][\"states\"], [(0, 0), (0, max_len-np.shape(sampled_eps[0][\"states\"])[1]), (0,0)], mode='constant')\n",
    "actions_start =  np.pad(sampled_eps[0][\"actions\"], [(0, 0), (0, max_len-np.shape(sampled_eps[0][\"actions\"])[1]), (0,0)], mode='constant')\n",
    "values_start = np.pad(sampled_eps[0][\"values\"], [(0, 0), (0, max_len-np.shape(sampled_eps[0][\"values\"])[1])], mode='constant')\n",
    "rewards_start = np.pad(sampled_eps[0][\"rewards\"], [(0, 0), (0, max_len-np.shape(sampled_eps[0][\"rewards\"])[1])], mode='constant')\n",
    "\n",
    "for i in range(len(sampled_eps) - 1):\n",
    "    states_start = np.concatenate((states_start, np.pad(sampled_eps[i+1][\"states\"], \n",
    "                                                        [(0, 0), (0, max_len-np.shape(sampled_eps[i+1][\"states\"])[1]), (0,0)], mode='constant')),\n",
    "                                  axis = 0)\n",
    "    actions_start = np.concatenate((actions_start, np.pad(sampled_eps[i+1][\"actions\"], \n",
    "                                                        [(0, 0), (0, max_len-np.shape(sampled_eps[i+1][\"actions\"])[1]), (0,0)], mode='constant')),\n",
    "                                  axis = 0)\n",
    "    values_start = np.concatenate((values_start, np.pad(sampled_eps[i+1][\"values\"], \n",
    "                                                        [(0, 0), (0, max_len-np.shape(sampled_eps[i+1][\"values\"])[1])], mode='constant')),\n",
    "                                  axis = 0)\n",
    "    rewards_start = np.concatenate((rewards_start, np.pad(sampled_eps[i+1][\"rewards\"], \n",
    "                                                        [(0, 0), (0, max_len-np.shape(sampled_eps[i+1][\"rewards\"])[1])], mode='constant')),\n",
    "                                  axis = 0)"
   ]
  },
  {
   "cell_type": "code",
   "execution_count": 28,
   "metadata": {
    "collapsed": true
   },
   "outputs": [],
   "source": [
    "env_count = 10\n",
    "\n",
    "actions = np.random.binomial(1, 0.5, size = (env_count,1,2)) \n",
    "discount = np.array([GAMMA**i for i in range(10)], dtype=np.float32)\n",
    "rewards = np.random.binomial(5, 0.5, size = (env_count,1))\n",
    "\n",
    "init_c = np.zeros(shape = (env_count, 16))\n",
    "init_h = np.zeros(shape = (env_count, 16))\n",
    "process_ = np.random.normal(size = (env_count,1,4))\n",
    "#process_ = np.reshape(process_, newshape= [3,1,4])\n",
    "\n",
    "feed_dict_ = {\n",
    "    ac_network_test_.inputs:process_,\n",
    "    ac_network_test_.state_in[0]:init_c,\n",
    "    ac_network_test_.state_in[1]:init_h,\n",
    "    ac_network_test_.actions:actions,\n",
    "    ac_network_test_.rewards:rewards,\n",
    "    ac_network_test_.discount:discount,\n",
    "    ac_network_test_.rollout:10\n",
    "}\n",
    "\n",
    "pol_, val_ , rnn_state = sess.run([ac_network_test_.policy, ac_network_test_.value, ac_network_test_.state_out], feed_dict = feed_dict_)"
   ]
  },
  {
   "cell_type": "code",
   "execution_count": 29,
   "metadata": {},
   "outputs": [
    {
     "name": "stdout",
     "output_type": "stream",
     "text": [
      "(10, 1, 2)\n",
      "(10, 1, 1)\n",
      "(2, 10, 16)\n"
     ]
    }
   ],
   "source": [
    "print(np.shape(pol_))\n",
    "print(np.shape(val_))\n",
    "print(np.shape(rnn_state))"
   ]
  },
  {
   "cell_type": "markdown",
   "metadata": {},
   "source": [
    "Define Gym Wrapepr"
   ]
  },
  {
   "cell_type": "code",
   "execution_count": 30,
   "metadata": {
    "collapsed": true
   },
   "outputs": [],
   "source": [
    "# Weighted random selection returns n_picks random indexes.\n",
    "# the chance to pick the index i is give by the weight weights[i].\n",
    "def weighted_pick(weights,n_picks):\n",
    "    t = np.cumsum(weights)\n",
    "    s = np.sum(weights)\n",
    "    return np.searchsorted(t,np.random.rand(n_picks)*s)\n",
    "\n",
    "actions = [weighted_pick(a,1) for a in pol_]\n",
    "action_one_hot = np.eye(ACTION_DIM, dtype=np.int32)[np.array(actions)]"
   ]
  },
  {
   "cell_type": "markdown",
   "metadata": {},
   "source": [
    "Get actions for every step"
   ]
  },
  {
   "cell_type": "code",
   "execution_count": 32,
   "metadata": {
    "collapsed": true
   },
   "outputs": [],
   "source": [
    "act_ = [np.argmax(a) for a in action_one_hot]"
   ]
  },
  {
   "cell_type": "code",
   "execution_count": 93,
   "metadata": {},
   "outputs": [
    {
     "data": {
      "text/plain": [
       "(10, 1, 2)"
      ]
     },
     "execution_count": 93,
     "metadata": {},
     "output_type": "execute_result"
    }
   ],
   "source": [
    "np.shape(action_one_hot)"
   ]
  },
  {
   "cell_type": "markdown",
   "metadata": {},
   "source": [
    "Define 10 independent envs"
   ]
  },
  {
   "cell_type": "code",
   "execution_count": 7,
   "metadata": {
    "collapsed": true
   },
   "outputs": [],
   "source": [
    "envs_cart = GymWrapper(ENV_NAME, count = 10)\n",
    "initial_obs = envs_cart.reset()"
   ]
  },
  {
   "cell_type": "markdown",
   "metadata": {},
   "source": [
    "Perform one step in every env"
   ]
  },
  {
   "cell_type": "code",
   "execution_count": 140,
   "metadata": {},
   "outputs": [
    {
     "name": "stdout",
     "output_type": "stream",
     "text": [
      "(10, 1, 4)\n",
      "(10, 1)\n",
      "(10,)\n",
      "(10, 1, 1)\n"
     ]
    }
   ],
   "source": [
    "next_obs, reward_class, done_class, tt_class , out_= envs_cart.step(act_)\n",
    "reward_class = np.expand_dims(reward_class, 1)\n",
    "print(np.shape(next_obs))\n",
    "print(np.shape(reward_class))\n",
    "print(np.shape(done_class))\n",
    "print(np.shape(val_))"
   ]
  },
  {
   "cell_type": "code",
   "execution_count": 141,
   "metadata": {
    "collapsed": true
   },
   "outputs": [],
   "source": [
    "episode_buffer = []\n",
    "episode_buffer.append([initial_obs, action_one_hot, reward_class])\n",
    "episode_buffer.append([next_obs, action_one_hot, reward_class])"
   ]
  },
  {
   "cell_type": "code",
   "execution_count": 178,
   "metadata": {
    "collapsed": true
   },
   "outputs": [],
   "source": [
    "episode_states = np.array([], dtype=np.float32).reshape(10,0,4)\n",
    "episode_reward = np.array([], dtype=np.float32).reshape(10,0)\n",
    "\n"
   ]
  },
  {
   "cell_type": "code",
   "execution_count": 187,
   "metadata": {},
   "outputs": [
    {
     "data": {
      "text/plain": [
       "(10, 1)"
      ]
     },
     "execution_count": 187,
     "metadata": {},
     "output_type": "execute_result"
    }
   ],
   "source": [
    "np.expand_dims(np.squeeze(val_), 1)"
   ]
  },
  {
   "cell_type": "code",
   "execution_count": 174,
   "metadata": {},
   "outputs": [
    {
     "data": {
      "text/plain": [
       "(10, 2, 4)"
      ]
     },
     "execution_count": 174,
     "metadata": {},
     "output_type": "execute_result"
    }
   ],
   "source": [
    "new = np.concatenate((asd, initial_obs), 1)\n",
    "np.shape(np.concatenate((next_obs, new), 1))"
   ]
  },
  {
   "cell_type": "code",
   "execution_count": 180,
   "metadata": {},
   "outputs": [
    {
     "data": {
      "text/plain": [
       "(10, 1)"
      ]
     },
     "execution_count": 180,
     "metadata": {},
     "output_type": "execute_result"
    }
   ],
   "source": [
    "np.shape(np.concatenate((episode_reward, reward_class), 1))"
   ]
  },
  {
   "cell_type": "code",
   "execution_count": 188,
   "metadata": {},
   "outputs": [
    {
     "data": {
      "text/plain": [
       "10"
      ]
     },
     "execution_count": 188,
     "metadata": {},
     "output_type": "execute_result"
    }
   ],
   "source": [
    "len(envs)"
   ]
  },
  {
   "cell_type": "markdown",
   "metadata": {},
   "source": [
    "**** A3C Batch ****"
   ]
  },
  {
   "cell_type": "code",
   "execution_count": 8,
   "metadata": {},
   "outputs": [],
   "source": [
    "tf.reset_default_graph()\n",
    "sess = tf.Session()\n",
    "trainer = tf.train.AdamOptimizer(learning_rate=LEARNING_RATE)\n",
    "ac_network_test = AC_Network(STATE_DIM, ACTION_DIM, \"global\", None, network_config, TAU, ROLLOUT, METHOD)\n",
    "ac_network_test_ = AC_Network(STATE_DIM, ACTION_DIM, \"worker_0\", trainer, network_config, TAU, ROLLOUT, METHOD)\n",
    "\n",
    "sess.run(tf.global_variables_initializer())"
   ]
  },
  {
   "cell_type": "code",
   "execution_count": 13,
   "metadata": {},
   "outputs": [
    {
     "name": "stdout",
     "output_type": "stream",
     "text": [
      "(10, 40, 4)\n",
      "(10, 40, 2)\n",
      "(10, 40)\n",
      "(10, 40)\n",
      "(10, 40)\n",
      "(2, 10, 16)\n"
     ]
    }
   ],
   "source": [
    "envs_cart = GymWrapper(ENV_NAME, count = 10)\n",
    "\n",
    "episode_states_train = np.array([], dtype=np.float32).reshape(len(envs_cart),0,STATE_DIM)\n",
    "episode_reward_train = np.array([], dtype=np.float32).reshape(len(envs_cart),0)\n",
    "episode_actions_train = np.array([], dtype=np.float32).reshape(len(envs_cart),0, ACTION_DIM)\n",
    "episode_actions_dist = np.array([], dtype=np.float32).reshape(len(envs_cart),0, ACTION_DIM)\n",
    "episode_values_train = np.array([], dtype=np.float32).reshape(len(envs_cart),0)\n",
    "episode_done_train = np.array([], dtype=np.float32).reshape(len(envs_cart),0)\n",
    "episode_reward = []\n",
    "episode_values = []\n",
    "\n",
    "def weighted_pick(weights,n_picks):\n",
    "    t = np.cumsum(weights)\n",
    "    s = np.sum(weights)\n",
    "    return np.searchsorted(t,np.random.rand(n_picks)*s)\n",
    "\n",
    "env_count = len(envs_cart)\n",
    "s = envs_cart.reset()\n",
    "init_c = np.zeros(shape = (env_count, 16))\n",
    "init_h = np.zeros(shape = (env_count, 16))\n",
    "    \n",
    "for i in range(40):\n",
    "    env_count = 10\n",
    "    \n",
    "    discount = np.array([GAMMA**i for i in range(10)], dtype=np.float32)\n",
    "\n",
    "    process_ = np.random.normal(size = (env_count,1,4))\n",
    "    #process_ = np.reshape(process_, newshape= [3,1,4])\n",
    "\n",
    "    feed_dict_ = {\n",
    "        ac_network_test_.inputs:s,\n",
    "        ac_network_test_.state_in[0]:init_c,\n",
    "        ac_network_test_.state_in[1]:init_h,\n",
    "    }\n",
    "\n",
    "    action_dist, v , rnn_state = sess.run([ac_network_test_.policy, ac_network_test_.value, ac_network_test_.state_out],\n",
    "                                      feed_dict = feed_dict_)\n",
    "\n",
    "    a0 = [weighted_pick(a,1) for a in action_dist]  # Use stochastic distribution sampling\n",
    "    action_one_hot = np.eye(ACTION_DIM, dtype=np.int32)[np.array(a0)]\n",
    "    act_ = [np.argmax(a_) for a_ in action_one_hot]\n",
    "    \n",
    "    s_next, r, done, tt_class  = envs_cart.step(act_)\n",
    "    episode_reward.append(r)\n",
    "    episode_values.append(v)\n",
    "    \n",
    "    episode_actions_dist = np.concatenate((episode_actions_dist, action_dist),1)\n",
    "    episode_states_train = np.concatenate((episode_states_train, s), 1)\n",
    "    episode_reward_train = np.concatenate((episode_reward_train, np.expand_dims(r, 1)), 1)\n",
    "    episode_actions_train = np.concatenate((episode_actions_train, action_one_hot), 1)\n",
    "    episode_values_train = np.concatenate((episode_values_train, np.expand_dims(np.squeeze(v), 1)), 1)\n",
    "    episode_done_train = np.concatenate((episode_done_train, np.expand_dims(done, 1)), 1)\n",
    "\n",
    "    s = s_next\n",
    "    init_c = rnn_state[0]\n",
    "    init_h = rnn_state[1]\n",
    "\n",
    "v1 = np.squeeze(sess.run([ac_network_test_.value],\n",
    "                feed_dict={ac_network_test_.inputs: s,\n",
    "                            ac_network_test_.state_in[0]: rnn_state[0],\n",
    "                            ac_network_test_.state_in[1]: rnn_state[1]}))\n",
    "\n",
    "    \n",
    "    \n",
    "print(np.shape(episode_states_train))\n",
    "print(np.shape(episode_actions_train))\n",
    "print(np.shape(episode_reward_train))\n",
    "print(np.shape(episode_values_train))\n",
    "print(np.shape(episode_done_train))\n",
    "print(np.shape(rnn_state))"
   ]
  },
  {
   "cell_type": "code",
   "execution_count": 52,
   "metadata": {},
   "outputs": [
    {
     "ename": "TypeError",
     "evalue": "only integer scalar arrays can be converted to a scalar index",
     "output_type": "error",
     "traceback": [
      "\u001b[0;31m---------------------------------------------------------------------------\u001b[0m",
      "\u001b[0;31mTypeError\u001b[0m                                 Traceback (most recent call last)",
      "\u001b[0;32m<ipython-input-52-2cf2bbb04468>\u001b[0m in \u001b[0;36m<module>\u001b[0;34m()\u001b[0m\n\u001b[0;32m----> 1\u001b[0;31m \u001b[0menumerate\u001b[0m\u001b[0;34m(\u001b[0m\u001b[0mrange\u001b[0m\u001b[0;34m(\u001b[0m\u001b[0;36m10\u001b[0m\u001b[0;34m)\u001b[0m\u001b[0;34m,\u001b[0m \u001b[0melem_to_sum\u001b[0m\u001b[0;34m)\u001b[0m\u001b[0;34m\u001b[0m\u001b[0m\n\u001b[0m",
      "\u001b[0;31mTypeError\u001b[0m: only integer scalar arrays can be converted to a scalar index"
     ]
    }
   ],
   "source": [
    "enumerate(range(10), elem_to_sum)"
   ]
  },
  {
   "cell_type": "code",
   "execution_count": 55,
   "metadata": {},
   "outputs": [
    {
     "data": {
      "text/plain": [
       "[array([4.0554776e-05, 4.0507712e-05], dtype=float32),\n",
       " array([4.0554780e-05, 4.0507715e-05], dtype=float32),\n",
       " array([4.0554762e-05, 4.0507723e-05], dtype=float32),\n",
       " array([4.0554773e-05, 4.0507726e-05], dtype=float32),\n",
       " array([4.0554776e-05, 4.0507712e-05], dtype=float32),\n",
       " array([4.0554776e-05, 4.0507712e-05], dtype=float32),\n",
       " array([4.0554769e-05, 4.0507726e-05], dtype=float32),\n",
       " array([4.0554776e-05, 4.0507708e-05], dtype=float32),\n",
       " array([4.0554776e-05, 4.0507719e-05], dtype=float32),\n",
       " array([4.0554765e-05, 4.0507719e-05], dtype=float32)]"
      ]
     },
     "execution_count": 55,
     "metadata": {},
     "output_type": "execute_result"
    }
   ],
   "source": [
    "elem_to_sum = episode_actions_dist_old * (np.log(episode_actions_dist_old) - np.log(episode_actions_dist))\n",
    "\n",
    "[sum(ep) for ep in elem_to_sum]\n"
   ]
  },
  {
   "cell_type": "code",
   "execution_count": 44,
   "metadata": {},
   "outputs": [],
   "source": [
    "episode_actions_dist_old = episode_actions_dist + 0.000001"
   ]
  },
  {
   "cell_type": "code",
   "execution_count": 42,
   "metadata": {},
   "outputs": [],
   "source": [
    "episode_states_train_old = episode_states_train + 0.000001"
   ]
  },
  {
   "cell_type": "code",
   "execution_count": 24,
   "metadata": {},
   "outputs": [],
   "source": [
    "my_logits = np.reshape(episode_actions_dist, [2,40,10])\n",
    "\n",
    "batch_size = np.shape(my_logits[0])[1]\n",
    "time_length = np.shape(my_logits[0])[0]\n",
    "\n",
    "reshaped_my_logits = [\n",
    "        np.reshape(my_logit, [batch_size * time_length, -1])\n",
    "        for my_logit in my_logits]"
   ]
  },
  {
   "cell_type": "code",
   "execution_count": 25,
   "metadata": {},
   "outputs": [
    {
     "data": {
      "text/plain": [
       "(2, 400, 1)"
      ]
     },
     "execution_count": 25,
     "metadata": {},
     "output_type": "execute_result"
    }
   ],
   "source": [
    "np.shape(reshaped_my_logits)"
   ]
  },
  {
   "cell_type": "code",
   "execution_count": 32,
   "metadata": {},
   "outputs": [
    {
     "name": "stdout",
     "output_type": "stream",
     "text": [
      "0\n",
      "(2, 0)\n"
     ]
    }
   ],
   "source": [
    "for i, act in enumerate(zip(envs_cart.act_dims, envs_cart.act_types)):\n",
    "    print(i)\n",
    "    print(act)"
   ]
  },
  {
   "cell_type": "code",
   "execution_count": 20,
   "metadata": {},
   "outputs": [
    {
     "data": {
      "text/plain": [
       "(40, 10)"
      ]
     },
     "execution_count": 20,
     "metadata": {},
     "output_type": "execute_result"
    }
   ],
   "source": [
    "np.shape(episode_actions_dist_res[0])"
   ]
  },
  {
   "cell_type": "code",
   "execution_count": 40,
   "metadata": {},
   "outputs": [
    {
     "name": "stdout",
     "output_type": "stream",
     "text": [
      "(2, 4)\n"
     ]
    },
    {
     "data": {
      "text/plain": [
       "array([3, 5, 5, 6])"
      ]
     },
     "execution_count": 40,
     "metadata": {},
     "output_type": "execute_result"
    }
   ],
   "source": [
    "a = np.array([[1,2,3,4], [2,3, 2,2]])\n",
    "print(np.shape(a))\n",
    "sum(a)"
   ]
  },
  {
   "cell_type": "code",
   "execution_count": 28,
   "metadata": {},
   "outputs": [
    {
     "data": {
      "text/plain": [
       "[True, True, False, True, False, False, True, True, True, True]"
      ]
     },
     "execution_count": 28,
     "metadata": {},
     "output_type": "execute_result"
    }
   ],
   "source": [
    "envs_cart.dones"
   ]
  },
  {
   "cell_type": "code",
   "execution_count": 36,
   "metadata": {
    "collapsed": true
   },
   "outputs": [],
   "source": [
    "def discounting(x, gamma):\n",
    "    return scipy.signal.lfilter([1], [1, -gamma], x[::-1], axis=0)[::-1]\n",
    "\n",
    "states = worker.episode_states_train\n",
    "rewards = episode_reward_train\n",
    "actions = episode_actions_train\n",
    "values = episode_values_train\n",
    "terminal = episode_done_train\n",
    "gamma = 0.95\n",
    "r = v1\n",
    "\n",
    "# Get length of different rollouts --> Since given e.g. 10 envs maybe 5 terminated earlier\n",
    "lengths_rollouts = [int(-1 * sum(done - 1)) for done in terminal]\n",
    "\n",
    "# Get batch size\n",
    "batch_size = len(states)\n",
    "\n",
    "# Max len batch\n",
    "max_len = len(states[0])\n",
    "\n",
    "rewards_list = []\n",
    "for i in range(batch_size):\n",
    "    if not envs_cart.dones[i]:\n",
    "        rewards_list.append(np.asarray(rewards[i].tolist()[:lengths_rollouts[i]]+[r[i]]))\n",
    "    else:\n",
    "        rewards_list.append(np.asarray(rewards[i].tolist()[:lengths_rollouts[i]]))"
   ]
  },
  {
   "cell_type": "code",
   "execution_count": 63,
   "metadata": {},
   "outputs": [
    {
     "data": {
      "text/plain": [
       "array([[[1., 0.],\n",
       "        [1., 0.],\n",
       "        [1., 0.],\n",
       "        [0., 1.],\n",
       "        [1., 0.],\n",
       "        [1., 0.],\n",
       "        [0., 1.],\n",
       "        [1., 0.],\n",
       "        [0., 1.],\n",
       "        [1., 0.],\n",
       "        [0., 1.],\n",
       "        [1., 0.],\n",
       "        [1., 0.],\n",
       "        [0., 1.],\n",
       "        [1., 0.]],\n",
       "\n",
       "       [[0., 1.],\n",
       "        [1., 0.],\n",
       "        [0., 1.],\n",
       "        [0., 1.],\n",
       "        [1., 0.],\n",
       "        [0., 1.],\n",
       "        [0., 1.],\n",
       "        [0., 1.],\n",
       "        [1., 0.],\n",
       "        [0., 1.],\n",
       "        [1., 0.],\n",
       "        [0., 1.],\n",
       "        [1., 0.],\n",
       "        [0., 1.],\n",
       "        [0., 1.]]])"
      ]
     },
     "execution_count": 63,
     "metadata": {},
     "output_type": "execute_result"
    }
   ],
   "source": [
    "worker.episode_actions_train"
   ]
  },
  {
   "cell_type": "code",
   "execution_count": 59,
   "metadata": {},
   "outputs": [
    {
     "ename": "ValueError",
     "evalue": "all input arrays must have the same shape",
     "output_type": "error",
     "traceback": [
      "\u001b[0;31m---------------------------------------------------------------------------\u001b[0m",
      "\u001b[0;31mValueError\u001b[0m                                Traceback (most recent call last)",
      "\u001b[0;32m<ipython-input-59-5d5e2a26b659>\u001b[0m in \u001b[0;36m<module>\u001b[0;34m()\u001b[0m\n\u001b[1;32m     44\u001b[0m \u001b[0;34m\u001b[0m\u001b[0m\n\u001b[1;32m     45\u001b[0m \u001b[0mpadded_discounted_rewards\u001b[0m \u001b[0;34m=\u001b[0m \u001b[0;34m[\u001b[0m\u001b[0mnp\u001b[0m\u001b[0;34m.\u001b[0m\u001b[0mpad\u001b[0m\u001b[0;34m(\u001b[0m\u001b[0mdiscounted_rewards\u001b[0m\u001b[0;34m[\u001b[0m\u001b[0mi\u001b[0m\u001b[0;34m]\u001b[0m\u001b[0;34m,\u001b[0m \u001b[0;34m[\u001b[0m\u001b[0;34m(\u001b[0m\u001b[0;36m0\u001b[0m\u001b[0;34m,\u001b[0m \u001b[0mmax_len\u001b[0m \u001b[0;34m-\u001b[0m \u001b[0mlengths_rollouts\u001b[0m\u001b[0;34m[\u001b[0m\u001b[0mi\u001b[0m\u001b[0;34m]\u001b[0m\u001b[0;34m)\u001b[0m\u001b[0;34m]\u001b[0m\u001b[0;34m,\u001b[0m \u001b[0mmode\u001b[0m\u001b[0;34m=\u001b[0m\u001b[0;34m\"constant\"\u001b[0m\u001b[0;34m)\u001b[0m \u001b[0;32mfor\u001b[0m \u001b[0mi\u001b[0m \u001b[0;32min\u001b[0m \u001b[0mrange\u001b[0m\u001b[0;34m(\u001b[0m\u001b[0mbatch_size\u001b[0m\u001b[0;34m)\u001b[0m\u001b[0;34m]\u001b[0m\u001b[0;34m\u001b[0m\u001b[0m\n\u001b[0;32m---> 46\u001b[0;31m \u001b[0mpadded_discounted_rewards\u001b[0m \u001b[0;34m=\u001b[0m \u001b[0mnp\u001b[0m\u001b[0;34m.\u001b[0m\u001b[0mstack\u001b[0m\u001b[0;34m(\u001b[0m\u001b[0mpadded_discounted_rewards\u001b[0m\u001b[0;34m)\u001b[0m\u001b[0;34m\u001b[0m\u001b[0m\n\u001b[0m",
      "\u001b[0;32m/home/adrian/anaconda3/envs/py27/lib/python2.7/site-packages/numpy/core/shape_base.pyc\u001b[0m in \u001b[0;36mstack\u001b[0;34m(arrays, axis, out)\u001b[0m\n\u001b[1;32m    351\u001b[0m     \u001b[0mshapes\u001b[0m \u001b[0;34m=\u001b[0m \u001b[0mset\u001b[0m\u001b[0;34m(\u001b[0m\u001b[0marr\u001b[0m\u001b[0;34m.\u001b[0m\u001b[0mshape\u001b[0m \u001b[0;32mfor\u001b[0m \u001b[0marr\u001b[0m \u001b[0;32min\u001b[0m \u001b[0marrays\u001b[0m\u001b[0;34m)\u001b[0m\u001b[0;34m\u001b[0m\u001b[0m\n\u001b[1;32m    352\u001b[0m     \u001b[0;32mif\u001b[0m \u001b[0mlen\u001b[0m\u001b[0;34m(\u001b[0m\u001b[0mshapes\u001b[0m\u001b[0;34m)\u001b[0m \u001b[0;34m!=\u001b[0m \u001b[0;36m1\u001b[0m\u001b[0;34m:\u001b[0m\u001b[0;34m\u001b[0m\u001b[0m\n\u001b[0;32m--> 353\u001b[0;31m         \u001b[0;32mraise\u001b[0m \u001b[0mValueError\u001b[0m\u001b[0;34m(\u001b[0m\u001b[0;34m'all input arrays must have the same shape'\u001b[0m\u001b[0;34m)\u001b[0m\u001b[0;34m\u001b[0m\u001b[0m\n\u001b[0m\u001b[1;32m    354\u001b[0m \u001b[0;34m\u001b[0m\u001b[0m\n\u001b[1;32m    355\u001b[0m     \u001b[0mresult_ndim\u001b[0m \u001b[0;34m=\u001b[0m \u001b[0marrays\u001b[0m\u001b[0;34m[\u001b[0m\u001b[0;36m0\u001b[0m\u001b[0;34m]\u001b[0m\u001b[0;34m.\u001b[0m\u001b[0mndim\u001b[0m \u001b[0;34m+\u001b[0m \u001b[0;36m1\u001b[0m\u001b[0;34m\u001b[0m\u001b[0m\n",
      "\u001b[0;31mValueError\u001b[0m: all input arrays must have the same shape"
     ]
    }
   ],
   "source": [
    "def discounting(x, gamma):\n",
    "    return scipy.signal.lfilter([1], [1, -gamma], x[::-1], axis=0)[::-1]\n",
    "\n",
    "states = worker.episode_states_train\n",
    "rewards = worker.episode_reward_train\n",
    "actions = worker.episode_actions_train\n",
    "values = worker.episode_values_train\n",
    "terminal = worker.episode_done_train\n",
    "gamma = 0.95\n",
    "r = v1\n",
    "\n",
    "# Get length of different rollouts --> Since given e.g. 10 envs maybe 5 terminated earlier\n",
    "lengths_rollouts = [int(-1 * sum(done - 1)) for done in terminal]\n",
    "\n",
    "# Get batch size\n",
    "batch_size = len(states)\n",
    "\n",
    "# Max len batch\n",
    "max_len = len(states[0])\n",
    "\n",
    "# Here we take the rewards and values from the rollout, and use them to\n",
    "# generate the advantage and discounted returns.\n",
    "rewards_list = [np.asarray(rewards[i].tolist()[:lengths_rollouts[i]]) * 0.001 for i in range(batch_size)]\n",
    "discounted_rewards = [discounting(rewards_list[i], gamma)[:-1] for i in range(batch_size)]\n",
    "\n",
    "# Advantage estimation\n",
    "# JS, P Moritz, S Levine, M Jordan, P Abbeel,\n",
    "# \"High-dimensional continuous control using generalized advantage estimation.\"\n",
    "# arXiv preprint arXiv:1506.02438 (2015).\n",
    "values_list = []\n",
    "for i in range(batch_size):\n",
    "    if not True:\n",
    "        values_list.append(np.asarray(rewards[i].tolist()[:lengths_rollouts[i]] + [r[i]]) * 0.001)\n",
    "    else:\n",
    "        values_list.append(np.asarray(rewards[i].tolist()[:lengths_rollouts[i]] + [0]) * 0.001)\n",
    "#values_list = [np.asarray(values[i].tolist()[:lengths_rollouts[i]]+[r[i]]) * 0.001 for i in range(batch_size)]\n",
    "\n",
    "# Compute TD residual of V with discount gamma --> can be considered as the advantage of the action a_t\n",
    "advantages = [rewards[i][:lengths_rollouts[i]] + gamma * values_list[i][1:] - values_list[i][:-1] for i in range(batch_size)]\n",
    "discounted_advantages = [discounting(advantages[i], gamma) for i in range(batch_size)]\n",
    "\n",
    "padded_discounted_advantages = [np.pad(discounted_advantages[i], [(0, max_len - lengths_rollouts[i])], mode = \"constant\") for i in range(batch_size)]\n",
    "padded_discounted_advantages = np.vstack(padded_discounted_advantages)\n",
    "\n",
    "padded_discounted_rewards = [np.pad(discounted_rewards[i], [(0, max_len - lengths_rollouts[i])], mode=\"constant\") for i in range(batch_size)]\n",
    "padded_discounted_rewards = np.stack(padded_discounted_rewards)\n"
   ]
  },
  {
   "cell_type": "code",
   "execution_count": 40,
   "metadata": {},
   "outputs": [
    {
     "data": {
      "text/plain": [
       "(10, 20)"
      ]
     },
     "execution_count": 40,
     "metadata": {},
     "output_type": "execute_result"
    }
   ],
   "source": [
    "np.shape((padded_discounted_advantages))"
   ]
  },
  {
   "cell_type": "code",
   "execution_count": 19,
   "metadata": {
    "collapsed": true
   },
   "outputs": [],
   "source": [
    "tf.reset_default_graph()\n",
    "sess = tf.Session()\n",
    "\n",
    "#policy = actions = tf.placeholder(shape=[None, None, 1], dtype=tf.float32)\n",
    "value = actions = tf.placeholder(shape=[None, None], dtype=tf.float32)\n",
    "actions = tf.placeholder(shape=[None, None, 2], dtype=tf.float32)\n",
    "target_v = tf.placeholder(shape=[None, None], dtype=tf.float32)\n",
    "advantages = tf.placeholder(shape=[None, None], dtype=tf.float32)\n",
    "seq_lens = tf.placeholder(shape=[None], dtype=tf.int32)\n",
    "\n",
    "batch_size = tf.shape(target_v)[0]\n",
    "max_len = tf.shape(target_v)[1]\n",
    "\n",
    "value_loss_array_init = tf.TensorArray(tf.float32, size=batch_size)\n",
    "\n",
    "def compute_value_loss(i, ta):\n",
    "    value_loss_temp = 0.5 * tf.reduce_sum(tf.square(target_v[i][:seq_lens[i]] - value[i][:seq_lens[i]]))\n",
    "    return i +1, ta.write(i, value_loss_temp)\n",
    "\n",
    "# Loop over all episodes\n",
    "_, value_loss_array = tf.while_loop(\n",
    "    lambda i, ta: i < batch_size, compute_value_loss, [0, value_loss_array_init])\n",
    "\n",
    "val_1 = value_loss_array.gather([1])"
   ]
  },
  {
   "cell_type": "code",
   "execution_count": 20,
   "metadata": {},
   "outputs": [
    {
     "data": {
      "text/plain": [
       "[array([0.17833658], dtype=float32)]"
      ]
     },
     "execution_count": 20,
     "metadata": {},
     "output_type": "execute_result"
    }
   ],
   "source": [
    "feed_dict_ = {\n",
    "    #policy: \n",
    "    value: episode_values_train,\n",
    "    actions: episode_actions_train,\n",
    "    target_v: padded_discounted_rewards,\n",
    "    advantages: padded_discounted_advantages,\n",
    "    seq_lens: lengths_rollouts\n",
    "}\n",
    "\n",
    "sess.run([val_1], feed_dict_)"
   ]
  },
  {
   "cell_type": "code",
   "execution_count": null,
   "metadata": {
    "collapsed": true
   },
   "outputs": [],
   "source": []
  },
  {
   "cell_type": "code",
   "execution_count": 400,
   "metadata": {},
   "outputs": [
    {
     "name": "stdout",
     "output_type": "stream",
     "text": [
      "(10, 40)\n",
      "(10, 40)\n",
      "(10, 40, 2)\n",
      "(10, 40, 4)\n"
     ]
    }
   ],
   "source": [
    "print(np.shape(padded_discounted_rewards))\n",
    "print(np.shape(padded_discounted_advantages))\n",
    "print(np.shape(actions))\n",
    "print(np.shape(states))"
   ]
  },
  {
   "cell_type": "code",
   "execution_count": null,
   "metadata": {},
   "outputs": [],
   "source": []
  },
  {
   "cell_type": "code",
   "execution_count": null,
   "metadata": {},
   "outputs": [],
   "source": []
  },
  {
   "cell_type": "code",
   "execution_count": null,
   "metadata": {},
   "outputs": [],
   "source": []
  },
  {
   "cell_type": "code",
   "execution_count": 11,
   "metadata": {},
   "outputs": [],
   "source": [
    "import numpy as np\n",
    "import scipy.signal\n",
    "import os\n",
    "import tensorflow as tf\n",
    "from skimage.color import rgb2gray"
   ]
  },
  {
   "cell_type": "code",
   "execution_count": 30,
   "metadata": {},
   "outputs": [],
   "source": [
    "def process_frame(frame):\n",
    "    \"\"\"\n",
    "    Image processing\n",
    "    \"\"\"\n",
    "    #s = frame[10:-10,30:-30]\n",
    "    # s = rgb2gray(frame)\n",
    "    # s = scipy.misc.imresize(s,[84,84])\n",
    "    # s = np.reshape(s,[np.prod(s.shape)]) / 255.0\n",
    "    # return s\n",
    "\n",
    "    processed_frames = []\n",
    "    for el in frame:\n",
    "        #print(el[0])\n",
    "        #print(len(el))\n",
    "        #break\n",
    "        #print(el)\n",
    "        s = rgb2gray(el[0])\n",
    "        s = scipy.misc.imresize(s,[84,84])\n",
    "        \n",
    "        s = np.reshape(s, [np.prod(s.shape)]) / 255.0\n",
    "        print(s)\n",
    "        s = np.expand_dims(s, 0)\n",
    "        print(s.shape)\n",
    "        processed_frames.append(s)\n",
    "    return processed_frames"
   ]
  },
  {
   "cell_type": "code",
   "execution_count": 31,
   "metadata": {},
   "outputs": [
    {
     "name": "stdout",
     "output_type": "stream",
     "text": [
      "[0.49803922 0.47843137 0.54117647 ... 0.54509804 0.47058824 0.48627451]\n",
      "(1, 7056)\n",
      "[0.59215686 0.55294118 0.54901961 ... 0.55294118 0.6        0.43921569]\n",
      "(1, 7056)\n",
      "[0.47843137 0.52941176 0.49411765 ... 0.50588235 0.45882353 0.45882353]\n",
      "(1, 7056)\n"
     ]
    },
    {
     "name": "stderr",
     "output_type": "stream",
     "text": [
      "/usr/local/lib/python2.7/dist-packages/ipykernel_launcher.py:18: DeprecationWarning: `imresize` is deprecated!\n",
      "`imresize` is deprecated in SciPy 1.0.0, and will be removed in 1.2.0.\n",
      "Use ``skimage.transform.resize`` instead.\n"
     ]
    },
    {
     "data": {
      "text/plain": [
       "[array([[0.49803922, 0.47843137, 0.54117647, ..., 0.54509804, 0.47058824,\n",
       "         0.48627451]]),\n",
       " array([[0.59215686, 0.55294118, 0.54901961, ..., 0.55294118, 0.6       ,\n",
       "         0.43921569]]),\n",
       " array([[0.47843137, 0.52941176, 0.49411765, ..., 0.50588235, 0.45882353,\n",
       "         0.45882353]])]"
      ]
     },
     "execution_count": 31,
     "metadata": {},
     "output_type": "execute_result"
    }
   ],
   "source": [
    "process_frame(a)"
   ]
  },
  {
   "cell_type": "code",
   "execution_count": null,
   "metadata": {},
   "outputs": [],
   "source": []
  },
  {
   "cell_type": "code",
   "execution_count": 2,
   "metadata": {},
   "outputs": [],
   "source": [
    "import numpy as np"
   ]
  },
  {
   "cell_type": "code",
   "execution_count": 16,
   "metadata": {},
   "outputs": [
    {
     "data": {
      "text/plain": [
       "3"
      ]
     },
     "execution_count": 16,
     "metadata": {},
     "output_type": "execute_result"
    }
   ],
   "source": [
    "len(lst)"
   ]
  },
  {
   "cell_type": "code",
   "execution_count": 19,
   "metadata": {},
   "outputs": [
    {
     "data": {
      "text/plain": [
       "(3, 7056)"
      ]
     },
     "execution_count": 19,
     "metadata": {},
     "output_type": "execute_result"
    }
   ],
   "source": [
    "np.array(lst).shape"
   ]
  },
  {
   "cell_type": "code",
   "execution_count": null,
   "metadata": {},
   "outputs": [],
   "source": []
  },
  {
   "cell_type": "code",
   "execution_count": 7,
   "metadata": {},
   "outputs": [],
   "source": [
    "a = np.random.normal(size = [3, 1, 210, 100, 3])"
   ]
  },
  {
   "cell_type": "code",
   "execution_count": 8,
   "metadata": {},
   "outputs": [
    {
     "data": {
      "text/plain": [
       "array([[[[[ 8.86479262e-01, -1.65886185e+00, -5.05147775e-01],\n",
       "          [ 1.20213486e+00, -3.34608128e-01, -1.88186733e+00],\n",
       "          [-7.23588962e-01, -6.24305484e-01,  3.16558084e-01],\n",
       "          ...,\n",
       "          [-8.52607174e-01, -6.17501970e-01,  4.28220960e-02],\n",
       "          [-4.75739017e-01,  3.12985209e-01,  1.98508408e+00],\n",
       "          [ 1.09085446e+00, -1.31219509e+00, -1.38328549e+00]],\n",
       "\n",
       "         [[ 1.52857266e+00,  1.31235243e+00, -9.09651140e-01],\n",
       "          [ 1.47814712e-01, -1.02137305e+00, -9.45829543e-01],\n",
       "          [ 1.29682223e-01,  9.72266747e-01, -1.25930812e-01],\n",
       "          ...,\n",
       "          [ 1.29020521e-01,  8.09965336e-01,  1.21556841e+00],\n",
       "          [-7.97051657e-01, -1.50209219e-01,  1.45781957e-01],\n",
       "          [-1.46957871e+00, -1.56854104e+00,  1.67272030e+00]],\n",
       "\n",
       "         [[-1.88375714e+00, -5.64432924e-01, -7.76451228e-01],\n",
       "          [ 1.70816587e-01, -8.92549180e-01, -2.51413363e+00],\n",
       "          [-4.01825453e-01,  1.36642842e+00,  1.08541404e+00],\n",
       "          ...,\n",
       "          [-3.38662499e-01,  1.63793807e+00, -3.99366952e-01],\n",
       "          [-1.55098331e+00,  2.38051853e-01, -6.02517806e-01],\n",
       "          [ 1.71720058e+00,  8.72742565e-01,  1.31780631e-01]],\n",
       "\n",
       "         ...,\n",
       "\n",
       "         [[-3.57331951e-01, -1.33611402e+00,  1.26882021e+00],\n",
       "          [ 4.94595272e-01, -1.61684035e+00, -2.26445216e+00],\n",
       "          [ 4.29156892e-01,  7.44912475e-01,  5.56442506e-01],\n",
       "          ...,\n",
       "          [-7.15238710e-02, -6.24694156e-01,  8.68808798e-01],\n",
       "          [-1.69944606e+00, -5.06038792e-01,  1.27749641e+00],\n",
       "          [ 9.15778843e-01, -1.07691165e+00, -6.92975473e-01]],\n",
       "\n",
       "         [[ 3.57435505e-01, -6.98028887e-01,  3.21600542e-03],\n",
       "          [ 9.70903706e-01, -6.70515250e-01, -1.21225348e+00],\n",
       "          [-3.36717712e-01, -3.30060834e-01,  1.60336563e+00],\n",
       "          ...,\n",
       "          [-1.44278694e+00, -2.36866196e-01, -2.30770506e-01],\n",
       "          [ 1.51903108e-01,  8.78630944e-01,  4.27809910e-01],\n",
       "          [ 2.31403524e+00, -8.29401336e-01,  1.12582064e+00]],\n",
       "\n",
       "         [[ 1.76817669e+00,  1.38993149e+00,  8.02225391e-01],\n",
       "          [ 1.10737075e+00, -4.41391382e-01, -5.87533492e-01],\n",
       "          [-2.56989317e+00,  2.56974623e+00,  4.52236649e-02],\n",
       "          ...,\n",
       "          [-1.69651904e+00,  2.16610221e+00, -1.04647172e+00],\n",
       "          [ 7.72576568e-01, -3.26078147e+00,  6.94614909e-01],\n",
       "          [-1.54541606e+00,  1.03316243e+00, -1.37499002e+00]]]],\n",
       "\n",
       "\n",
       "\n",
       "       [[[[ 8.40650345e-02,  2.33229809e-01,  5.11079302e-01],\n",
       "          [-2.64409716e-01, -1.81254985e+00, -2.83747463e-01],\n",
       "          [ 2.44304164e-01, -8.99605174e-01,  1.18643687e+00],\n",
       "          ...,\n",
       "          [ 3.67445971e-01, -4.70154196e-01, -1.24655672e+00],\n",
       "          [-9.20763196e-01, -1.14780462e+00,  3.68981772e-01],\n",
       "          [-3.67310322e-01,  1.49158363e+00, -7.26301313e-01]],\n",
       "\n",
       "         [[ 2.06662769e+00,  3.21087812e-01, -5.76598896e-01],\n",
       "          [ 2.10441798e+00,  1.02929993e+00, -3.97219298e-01],\n",
       "          [ 4.76145975e-01, -9.40304921e-01,  1.75326081e+00],\n",
       "          ...,\n",
       "          [-4.83029812e-01, -2.04898137e-01,  1.24493169e-01],\n",
       "          [ 1.25494715e+00,  7.83385547e-01,  9.83570708e-01],\n",
       "          [-3.91456151e-01,  9.16669184e-01, -8.69570770e-01]],\n",
       "\n",
       "         [[-4.99615702e-01,  3.99238765e-01, -1.23878507e+00],\n",
       "          [ 1.10233984e+00,  2.54761564e-01, -4.00485958e-01],\n",
       "          [ 1.68580685e+00,  8.46686617e-01,  6.56213691e-01],\n",
       "          ...,\n",
       "          [-9.39963803e-01,  3.63243817e-01,  3.55283268e-01],\n",
       "          [-9.02073760e-01,  1.85103787e-01,  1.54309352e-01],\n",
       "          [ 1.33439104e+00, -2.18597418e-01,  1.45839852e-01]],\n",
       "\n",
       "         ...,\n",
       "\n",
       "         [[ 1.08845644e+00,  8.99820161e-01, -9.14954430e-01],\n",
       "          [-2.72401478e-01,  1.21434263e+00, -1.09295046e+00],\n",
       "          [ 3.50995169e-01, -2.51116356e+00,  1.71820849e-02],\n",
       "          ...,\n",
       "          [ 3.15039032e+00,  1.29134508e+00,  1.96957488e+00],\n",
       "          [-2.72251056e-01,  5.82724783e-01,  2.67017144e-01],\n",
       "          [ 5.80954687e-01, -9.36139086e-01, -1.11414290e+00]],\n",
       "\n",
       "         [[ 2.27571655e+00, -2.01070586e-02,  1.91029802e+00],\n",
       "          [ 4.35967601e-01,  1.07423075e+00, -1.83073807e+00],\n",
       "          [ 1.29362907e+00, -1.17611799e+00, -1.38763833e+00],\n",
       "          ...,\n",
       "          [ 8.25841838e-01, -4.58044354e-01, -1.05849782e+00],\n",
       "          [ 9.03884979e-01,  5.89949738e-01, -1.52642821e-01],\n",
       "          [ 4.46183449e-01, -1.50835080e+00, -1.45063165e+00]],\n",
       "\n",
       "         [[ 3.02290536e-01,  1.58790906e+00, -2.20672727e+00],\n",
       "          [ 1.85600201e-01, -5.03761915e-01, -1.30114517e-01],\n",
       "          [ 3.60489998e-01,  2.23309672e-01, -7.67942060e-01],\n",
       "          ...,\n",
       "          [-7.28993069e-02, -5.18332892e-01,  6.06087880e-01],\n",
       "          [ 1.51534163e+00, -7.18930098e-02,  2.46129983e-01],\n",
       "          [-1.96783089e+00, -1.04420276e+00, -7.94908839e-01]]]],\n",
       "\n",
       "\n",
       "\n",
       "       [[[[ 1.30557019e-02,  4.98745754e-01,  5.86041735e-01],\n",
       "          [-1.86690338e-01,  4.92371874e-01, -1.45464765e+00],\n",
       "          [-3.51942578e-01,  4.53098885e-01, -7.20853591e-01],\n",
       "          ...,\n",
       "          [ 1.14931556e-01,  1.19027553e+00,  2.07808691e-01],\n",
       "          [ 1.47608436e-01,  1.00198542e+00, -5.29217153e-01],\n",
       "          [ 5.79542443e-01, -2.64574345e-01,  3.09804394e-01]],\n",
       "\n",
       "         [[-7.74142656e-01,  1.96054684e-01, -3.81867893e-01],\n",
       "          [-1.30941319e+00,  9.26303602e-01,  1.29790603e+00],\n",
       "          [ 6.61800467e-01,  7.86688955e-01, -1.37115403e+00],\n",
       "          ...,\n",
       "          [ 6.61592236e-01, -1.31654990e-01,  4.06546036e-01],\n",
       "          [ 1.48367845e+00,  1.67769484e-01, -6.18119944e-02],\n",
       "          [-2.20769839e+00, -1.35990769e+00, -4.07708251e-01]],\n",
       "\n",
       "         [[-7.19705357e-01, -7.12548874e-01, -1.63476730e+00],\n",
       "          [-2.09606798e-01, -3.90966318e-01,  1.93169035e+00],\n",
       "          [ 6.02641819e-01,  3.21090798e-01, -1.08741345e+00],\n",
       "          ...,\n",
       "          [ 1.07608577e+00, -2.28248653e+00, -1.54142060e-01],\n",
       "          [ 1.05908801e+00,  4.65234788e-01,  2.05553269e+00],\n",
       "          [ 2.88002126e-01,  1.44044090e+00,  1.20231550e-01]],\n",
       "\n",
       "         ...,\n",
       "\n",
       "         [[-8.70072240e-01,  5.33140339e-01, -7.31931299e-01],\n",
       "          [ 3.38730594e-01, -1.61086050e+00,  9.69877553e-02],\n",
       "          [-2.34159939e-01, -4.06398546e-01, -8.13851757e-01],\n",
       "          ...,\n",
       "          [ 1.64955909e+00,  1.01580901e+00,  1.47302084e+00],\n",
       "          [-8.01639202e-03, -4.45923053e-01,  9.51792435e-02],\n",
       "          [ 5.33212671e-02,  2.41285203e-01, -1.62673726e+00]],\n",
       "\n",
       "         [[-4.74245161e-01, -4.93138992e-01,  1.05278216e+00],\n",
       "          [ 5.13491521e-01, -1.58918829e+00,  5.91538066e-01],\n",
       "          [-6.28535111e-01, -1.09442853e+00, -4.62109966e-01],\n",
       "          ...,\n",
       "          [ 9.19795799e-01, -6.36309976e-01,  3.35574880e-01],\n",
       "          [-1.08916108e+00, -6.61891960e-01, -2.61197396e-01],\n",
       "          [ 4.72720777e-01, -3.08924590e-01,  7.82906647e-01]],\n",
       "\n",
       "         [[-3.56977726e-02,  5.08625569e-02, -1.67737221e+00],\n",
       "          [-3.37405761e-01,  7.43712206e-01,  1.21525519e+00],\n",
       "          [ 2.03750859e+00,  1.31412858e+00,  6.55407140e-01],\n",
       "          ...,\n",
       "          [-2.69639278e-01, -3.64864236e-01,  6.38992576e-01],\n",
       "          [ 6.98597645e-01,  2.87146996e-01, -4.28999145e-01],\n",
       "          [ 9.37251151e-02, -3.11512552e-01, -1.04918546e+00]]]]])"
      ]
     },
     "execution_count": 8,
     "metadata": {},
     "output_type": "execute_result"
    }
   ],
   "source": [
    "a"
   ]
  },
  {
   "cell_type": "code",
   "execution_count": null,
   "metadata": {},
   "outputs": [],
   "source": []
  }
 ],
 "metadata": {
  "kernelspec": {
   "display_name": "Python 2",
   "language": "python",
   "name": "python2"
  },
  "language_info": {
   "codemirror_mode": {
    "name": "ipython",
    "version": 2
   },
   "file_extension": ".py",
   "mimetype": "text/x-python",
   "name": "python",
   "nbconvert_exporter": "python",
   "pygments_lexer": "ipython2",
   "version": "2.7.12"
  }
 },
 "nbformat": 4,
 "nbformat_minor": 2
}
